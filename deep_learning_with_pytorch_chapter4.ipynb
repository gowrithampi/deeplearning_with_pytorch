{
  "nbformat": 4,
  "nbformat_minor": 0,
  "metadata": {
    "colab": {
      "name": "deep_learning_with_pytorch_chapter4.ipynb",
      "provenance": [],
      "authorship_tag": "ABX9TyPjGl1WAEDmDLfLM1ySG70Q",
      "include_colab_link": true
    },
    "kernelspec": {
      "display_name": "Python 3",
      "name": "python3"
    }
  },
  "cells": [
    {
      "cell_type": "markdown",
      "metadata": {
        "id": "view-in-github",
        "colab_type": "text"
      },
      "source": [
        "<a href=\"https://colab.research.google.com/github/gowrithampi/deeplearning_with_pytorch/blob/main/deep_learning_with_pytorch_chapter4.ipynb\" target=\"_parent\"><img src=\"https://colab.research.google.com/assets/colab-badge.svg\" alt=\"Open In Colab\"/></a>"
      ]
    },
    {
      "cell_type": "code",
      "metadata": {
        "colab": {
          "base_uri": "https://localhost:8080/"
        },
        "id": "06wnd06LH8SU",
        "outputId": "0df2a23b-55d2-46ec-f432-edcd2c3314e5"
      },
      "source": [
        "#### Mount google drive \n",
        "from google.colab import drive\n",
        "drive.mount('/content/gdrive')\n"
      ],
      "execution_count": null,
      "outputs": [
        {
          "output_type": "stream",
          "text": [
            "Mounted at /content/gdrive\n"
          ],
          "name": "stdout"
        }
      ]
    },
    {
      "cell_type": "code",
      "metadata": {
        "id": "UDBNbbRKIRfx",
        "colab": {
          "base_uri": "https://localhost:8080/"
        },
        "outputId": "73429835-43f6-4979-d8d8-fa2fd30e8b16"
      },
      "source": [
        "#### clone directories from github\n",
        "\n",
        "%cd /content/gdrive/My Drive/pytorch_manning/dlwpt-code\n",
        "#!git clone https://github.com/deep-learning-with-pytorch/dlwpt-code\n"
      ],
      "execution_count": null,
      "outputs": [
        {
          "output_type": "stream",
          "text": [
            "/content/gdrive/My Drive/pytorch_manning/dlwpt-code\n"
          ],
          "name": "stdout"
        }
      ]
    },
    {
      "cell_type": "code",
      "metadata": {
        "id": "qAqzFF9jhS9y"
      },
      "source": [
        "## python list \n",
        "l = [9,8,7]\n"
      ],
      "execution_count": null,
      "outputs": []
    },
    {
      "cell_type": "markdown",
      "metadata": {
        "id": "-h9Otnnto3FB"
      },
      "source": [
        "Unlike Python lists, python tensors are allocated to contiguous blocks of memory"
      ]
    },
    {
      "cell_type": "code",
      "metadata": {
        "id": "__cJ7FA-mCt5"
      },
      "source": [
        "import torch\n",
        "## one dimensional tensor filled with ones\n",
        "a = torch.ones(3)"
      ],
      "execution_count": null,
      "outputs": []
    },
    {
      "cell_type": "code",
      "metadata": {
        "colab": {
          "base_uri": "https://localhost:8080/"
        },
        "id": "AmNmczEQnMIC",
        "outputId": "8c4ef393-5b0a-443e-8a9f-9c823fb132da"
      },
      "source": [
        "a"
      ],
      "execution_count": null,
      "outputs": [
        {
          "output_type": "execute_result",
          "data": {
            "text/plain": [
              "tensor([1., 1., 1.])"
            ]
          },
          "metadata": {
            "tags": []
          },
          "execution_count": 66
        }
      ]
    },
    {
      "cell_type": "code",
      "metadata": {
        "colab": {
          "base_uri": "https://localhost:8080/"
        },
        "id": "8C5wy5YvnRxG",
        "outputId": "4dae5aff-924e-4395-927a-65e92faac8e0"
      },
      "source": [
        "a[0]"
      ],
      "execution_count": null,
      "outputs": [
        {
          "output_type": "execute_result",
          "data": {
            "text/plain": [
              "tensor(1.)"
            ]
          },
          "metadata": {
            "tags": []
          },
          "execution_count": 67
        }
      ]
    },
    {
      "cell_type": "code",
      "metadata": {
        "colab": {
          "base_uri": "https://localhost:8080/"
        },
        "id": "6QXIz-7UnT7K",
        "outputId": "e554b23f-5fb9-4acf-fad6-b92f7e098494"
      },
      "source": [
        "## output it as float\n",
        "float(a[0])"
      ],
      "execution_count": null,
      "outputs": [
        {
          "output_type": "execute_result",
          "data": {
            "text/plain": [
              "1.0"
            ]
          },
          "metadata": {
            "tags": []
          },
          "execution_count": 68
        }
      ]
    },
    {
      "cell_type": "code",
      "metadata": {
        "id": "MZuijlJen9U8"
      },
      "source": [
        "## constructing a pytorch tensor from a list\n",
        "points_1d = torch.tensor([1,2,3,4,5,6])\n",
        "## to construct a 2 d tensor, pass a list of lists to the tensor's constructor\n",
        "points_2d = torch.tensor([[1.0,1.2] , [1.2 , 3.4] , [5.6, 6.5]])"
      ],
      "execution_count": null,
      "outputs": []
    },
    {
      "cell_type": "code",
      "metadata": {
        "colab": {
          "base_uri": "https://localhost:8080/"
        },
        "id": "aXSheWSqpIex",
        "outputId": "b20f22f2-7e72-4913-ddb9-586143e57e13"
      },
      "source": [
        "## to access the first element in the 2-d tensor. This output will be a 1d tensor. \n",
        "points_2d[0]\n",
        "## to access the 2nd element of the first element of the tensor\n",
        "points_2d[0,1]"
      ],
      "execution_count": null,
      "outputs": [
        {
          "output_type": "execute_result",
          "data": {
            "text/plain": [
              "tensor(1.2000)"
            ]
          },
          "metadata": {
            "tags": []
          },
          "execution_count": 70
        }
      ]
    },
    {
      "cell_type": "code",
      "metadata": {
        "id": "G36U2_Em70p5",
        "colab": {
          "base_uri": "https://localhost:8080/",
          "height": 162
        },
        "outputId": "22bc595f-7692-4c76-9737-0dd4d7fcefe6"
      },
      "source": [
        "a = points_2d.shape"
      ],
      "execution_count": null,
      "outputs": [
        {
          "output_type": "error",
          "ename": "NameError",
          "evalue": "ignored",
          "traceback": [
            "\u001b[0;31m---------------------------------------------------------------------------\u001b[0m",
            "\u001b[0;31mNameError\u001b[0m                                 Traceback (most recent call last)",
            "\u001b[0;32m<ipython-input-3-1417752282fe>\u001b[0m in \u001b[0;36m<module>\u001b[0;34m()\u001b[0m\n\u001b[0;32m----> 1\u001b[0;31m \u001b[0ma\u001b[0m \u001b[0;34m=\u001b[0m \u001b[0mpoints_2d\u001b[0m\u001b[0;34m.\u001b[0m\u001b[0mshape\u001b[0m\u001b[0;34m\u001b[0m\u001b[0;34m\u001b[0m\u001b[0m\n\u001b[0m",
            "\u001b[0;31mNameError\u001b[0m: name 'points_2d' is not defined"
          ]
        }
      ]
    },
    {
      "cell_type": "code",
      "metadata": {
        "id": "JE-ktvwQHLik",
        "colab": {
          "base_uri": "https://localhost:8080/"
        },
        "outputId": "9c87f89a-ae4e-4efd-fe13-e963327d3a57"
      },
      "source": [
        "## suppose we have a 5*5 picture with 3 channels and 2 batches \n",
        "\n",
        "batch_t = torch.randn(2,3,5,5)\n",
        "\n",
        "## taking the mean along the 3rd tensor dimension from the right\n",
        "batch_t.mean(-3) \n",
        "\n",
        "print(batch_t)"
      ],
      "execution_count": null,
      "outputs": [
        {
          "output_type": "stream",
          "text": [
            "tensor([[[[-0.9773,  1.4250, -1.3201, -0.5273, -2.2023],\n",
            "          [-0.6055,  0.8450, -1.0017,  1.3321, -1.3654],\n",
            "          [ 0.9472, -1.9854, -0.6317, -0.3784,  1.0319],\n",
            "          [ 0.4777,  1.0885,  0.0394,  0.0055,  0.1230],\n",
            "          [-0.4966, -0.3350,  0.8077,  1.3668, -0.2839]],\n",
            "\n",
            "         [[-1.4443, -0.4858, -1.1872,  0.7070,  0.9138],\n",
            "          [ 2.4818, -1.0848, -1.1361, -0.4019, -0.8737],\n",
            "          [ 1.2885, -0.6379, -0.4118, -0.4548,  3.0535],\n",
            "          [ 0.7134,  1.0152,  0.1129, -0.3949, -2.0509],\n",
            "          [ 0.2123,  2.5653,  0.9393, -0.3367,  0.8056]],\n",
            "\n",
            "         [[-0.7379, -1.0691, -0.6892,  1.2069, -1.3313],\n",
            "          [-1.7851, -0.0343,  0.5463,  2.1284,  0.9937],\n",
            "          [-0.7129,  0.7520, -1.2223,  0.5588, -0.4709],\n",
            "          [ 0.7252,  1.4658, -0.3595, -1.2834,  1.9744],\n",
            "          [-0.4128, -0.4119,  0.5171, -0.5711,  2.1154]]],\n",
            "\n",
            "\n",
            "        [[[ 0.3747,  0.1423,  1.4013, -0.9045,  1.0288],\n",
            "          [-0.2887, -0.1017, -0.4922, -1.3476, -0.6939],\n",
            "          [-0.0497,  1.5359,  1.0766,  1.8165,  0.7314],\n",
            "          [ 0.0162,  1.0372,  0.1818,  0.9974,  0.6991],\n",
            "          [ 0.7131,  0.6151, -1.4139, -1.8273,  0.4674]],\n",
            "\n",
            "         [[ 1.6595, -1.2985,  1.5377, -1.3696,  0.1014],\n",
            "          [ 0.0307,  0.0217,  0.8725, -0.3529, -0.1674],\n",
            "          [-0.7459, -0.8626,  1.0101,  0.4886, -0.2066],\n",
            "          [ 1.6904, -0.5807, -0.2246,  0.5208, -0.3506],\n",
            "          [ 1.8547, -0.8616, -2.6018, -0.9163, -0.4810]],\n",
            "\n",
            "         [[ 0.2127, -0.0887,  0.4654, -1.0579,  1.0661],\n",
            "          [-0.5675,  0.6820, -0.7622,  0.8343, -1.2058],\n",
            "          [ 1.4367,  1.0095,  0.0850, -1.6625,  0.0177],\n",
            "          [-0.6827,  0.5522,  1.1324, -1.3664,  1.1450],\n",
            "          [-0.0611, -0.0259,  0.6361, -0.1222, -1.1860]]]])\n"
          ],
          "name": "stdout"
        }
      ]
    },
    {
      "cell_type": "code",
      "metadata": {
        "id": "fIWpDQIJaSjP",
        "colab": {
          "base_uri": "https://localhost:8080/"
        },
        "outputId": "a670a0a7-05b7-4be4-c7a5-efa1ef109069"
      },
      "source": [
        "## let us try a weighted mean \n",
        "# weights = torch.tensor([0.2126,0.7152,0.722])\n",
        "weights = torch.tensor([2,2,2])\n",
        "print(weights.shape)\n",
        "## we do not need to add the first dimension because pytorch adds it automatically\n",
        "unsqueezed_weights = weights.unsqueeze(-1).unsqueeze(-1)\n",
        "print(unsqueezed_weights.shape)\n",
        "batch_t*unsqueezed_weights"
      ],
      "execution_count": null,
      "outputs": [
        {
          "output_type": "stream",
          "text": [
            "torch.Size([3])\n",
            "torch.Size([3, 1, 1])\n"
          ],
          "name": "stdout"
        },
        {
          "output_type": "execute_result",
          "data": {
            "text/plain": [
              "tensor([[[[-1.9547,  2.8501, -2.6402, -1.0545, -4.4046],\n",
              "          [-1.2110,  1.6900, -2.0035,  2.6641, -2.7307],\n",
              "          [ 1.8943, -3.9707, -1.2634, -0.7567,  2.0638],\n",
              "          [ 0.9553,  2.1770,  0.0787,  0.0110,  0.2461],\n",
              "          [-0.9933, -0.6701,  1.6154,  2.7335, -0.5678]],\n",
              "\n",
              "         [[-2.8886, -0.9717, -2.3744,  1.4141,  1.8277],\n",
              "          [ 4.9637, -2.1697, -2.2722, -0.8038, -1.7474],\n",
              "          [ 2.5770, -1.2758, -0.8235, -0.9096,  6.1070],\n",
              "          [ 1.4268,  2.0303,  0.2259, -0.7898, -4.1017],\n",
              "          [ 0.4246,  5.1306,  1.8787, -0.6734,  1.6112]],\n",
              "\n",
              "         [[-1.4757, -2.1382, -1.3783,  2.4138, -2.6626],\n",
              "          [-3.5701, -0.0685,  1.0927,  4.2568,  1.9874],\n",
              "          [-1.4257,  1.5039, -2.4446,  1.1175, -0.9419],\n",
              "          [ 1.4504,  2.9315, -0.7190, -2.5668,  3.9489],\n",
              "          [-0.8256, -0.8238,  1.0343, -1.1422,  4.2308]]],\n",
              "\n",
              "\n",
              "        [[[ 0.7493,  0.2845,  2.8026, -1.8091,  2.0576],\n",
              "          [-0.5775, -0.2034, -0.9844, -2.6953, -1.3877],\n",
              "          [-0.0994,  3.0719,  2.1532,  3.6331,  1.4627],\n",
              "          [ 0.0324,  2.0743,  0.3636,  1.9949,  1.3981],\n",
              "          [ 1.4262,  1.2301, -2.8278, -3.6545,  0.9349]],\n",
              "\n",
              "         [[ 3.3190, -2.5971,  3.0754, -2.7392,  0.2028],\n",
              "          [ 0.0614,  0.0433,  1.7449, -0.7059, -0.3348],\n",
              "          [-1.4918, -1.7252,  2.0202,  0.9772, -0.4132],\n",
              "          [ 3.3808, -1.1614, -0.4491,  1.0416, -0.7011],\n",
              "          [ 3.7094, -1.7231, -5.2036, -1.8325, -0.9621]],\n",
              "\n",
              "         [[ 0.4253, -0.1774,  0.9307, -2.1159,  2.1322],\n",
              "          [-1.1350,  1.3639, -1.5244,  1.6687, -2.4116],\n",
              "          [ 2.8734,  2.0189,  0.1700, -3.3250,  0.0355],\n",
              "          [-1.3653,  1.1044,  2.2648, -2.7328,  2.2900],\n",
              "          [-0.1223, -0.0518,  1.2723, -0.2444, -2.3720]]]])"
            ]
          },
          "metadata": {
            "tags": []
          },
          "execution_count": 10
        }
      ]
    },
    {
      "cell_type": "code",
      "metadata": {
        "colab": {
          "base_uri": "https://localhost:8080/"
        },
        "id": "P0C0HpiXC4iQ",
        "outputId": "6e2c3b18-6428-42d5-9916-351cb93693e1"
      },
      "source": [
        "## note that stride of an index is obtained by multiplying the dimensions that follow the index\n",
        "print(batch_t.stride())\n",
        "batch_t.shape"
      ],
      "execution_count": null,
      "outputs": [
        {
          "output_type": "stream",
          "text": [
            "(75, 25, 5, 1)\n"
          ],
          "name": "stdout"
        },
        {
          "output_type": "execute_result",
          "data": {
            "text/plain": [
              "torch.Size([2, 3, 5, 5])"
            ]
          },
          "metadata": {
            "tags": []
          },
          "execution_count": 74
        }
      ]
    },
    {
      "cell_type": "code",
      "metadata": {
        "id": "EAB5VgkCD8CA"
      },
      "source": [
        "x = torch.tensor([[3,2],[5,1]])\n",
        "x_t = x.transpose(0,1)\n",
        "print(x.storage(), x_t.storage())\n",
        "x[0] = 5\n",
        "\n"
      ],
      "execution_count": null,
      "outputs": []
    },
    {
      "cell_type": "code",
      "metadata": {
        "id": "-ktHhG3gKRnC"
      },
      "source": [
        "### copy a cpu tensor to the GPU \n",
        "#x_gpu = x.to(device = 'cuda')"
      ],
      "execution_count": null,
      "outputs": []
    },
    {
      "cell_type": "code",
      "metadata": {
        "id": "5N_bVervKpe_"
      },
      "source": [
        "#x_gpu.device"
      ],
      "execution_count": null,
      "outputs": []
    },
    {
      "cell_type": "code",
      "metadata": {
        "id": "OSYpLRkJKp3B"
      },
      "source": [
        "############### Real world Data with Pytorch, Chapter 4, Practice"
      ],
      "execution_count": null,
      "outputs": []
    },
    {
      "cell_type": "code",
      "metadata": {
        "id": "aIXxbcowZE53"
      },
      "source": [
        "import imageio"
      ],
      "execution_count": null,
      "outputs": []
    },
    {
      "cell_type": "code",
      "metadata": {
        "id": "kUth44bwH7Gf",
        "colab": {
          "base_uri": "https://localhost:8080/"
        },
        "outputId": "d28a238f-7e0a-4fdb-c0d7-b87bc6ee3c8a"
      },
      "source": [
        "## read in an image using image IO \n",
        "%ls data/p1ch4/image-dog\n",
        "img_arr = imageio.imread('data/p1ch4/image-dog/bobby.jpg')\n",
        "\n",
        "## note that the default shape puts the channel as the last element\n",
        "img_arr.shape"
      ],
      "execution_count": null,
      "outputs": [
        {
          "output_type": "stream",
          "text": [
            "bobby.jpg\n"
          ],
          "name": "stdout"
        },
        {
          "output_type": "execute_result",
          "data": {
            "text/plain": [
              "(720, 1280, 3)"
            ]
          },
          "metadata": {
            "tags": []
          },
          "execution_count": 13
        }
      ]
    },
    {
      "cell_type": "code",
      "metadata": {
        "colab": {
          "base_uri": "https://localhost:8080/"
        },
        "id": "FtnbDnY0eilc",
        "outputId": "c17bbcdb-c427-4ab8-f580-34e3a48a24bc"
      },
      "source": [
        "## create a pytorch tensor with the image array \n",
        "img = torch.from_numpy(img_arr)\n",
        "## we permute, so that channel comes first, the way pytorch likes it\n",
        "out = img.permute(2,0,1)\n",
        "out.shape\n",
        "## Underlying storage doesn't change\n",
        "#img.storage()[100] == out.storage()[100]"
      ],
      "execution_count": null,
      "outputs": [
        {
          "output_type": "execute_result",
          "data": {
            "text/plain": [
              "torch.Size([3, 720, 1280])"
            ]
          },
          "metadata": {
            "tags": []
          },
          "execution_count": 81
        }
      ]
    },
    {
      "cell_type": "code",
      "metadata": {
        "id": "4_bzEb5MgtHO"
      },
      "source": [
        "### reading a series of images, pre allocate a tensor\n",
        "\n",
        "batch_size = 3\n",
        "batch = torch.zeros(batch_size, 3, 256, 256, dtype = torch.uint8) ##uint8 is used in most photographic formats to represent color\n",
        "\n",
        "## read images one by one \n",
        "\n",
        "import os\n",
        "\n",
        "data_dir = 'data/p1ch4/image-cats'\n",
        "\n",
        "filenames = [ name for name in os.listdir(data_dir) if name.split('.')[1] == 'png']\n",
        "for i, name in enumerate(filenames) : \n",
        "  image_path = data_dir + '/'+ name\n",
        "  img = torch.from_numpy(imageio.imread(image_path)).permute(2,0,1)\n",
        "  ## retaining only the first three channels, even if more exist\n",
        "  img = img[0:3]\n",
        "  batch[i] = img\n",
        "  \n",
        "\n",
        "\n"
      ],
      "execution_count": null,
      "outputs": []
    },
    {
      "cell_type": "code",
      "metadata": {
        "colab": {
          "base_uri": "https://localhost:8080/"
        },
        "id": "iaPGuR_Tm36s",
        "outputId": "d3bbef0e-f4da-4bba-ae4c-a377fd866f3d"
      },
      "source": [
        "### normalizing image data \n",
        "## typecast to float\n",
        "batch = batch.float()\n",
        "\n",
        "## calculate this to do the normalization using a for loop, I'm trying to avoid\n",
        "## a for loop for my own learning\n",
        "n_channels = batch.size()[1]\n",
        "print(n_channels)\n",
        "\n",
        "## by collapsing all other dimensions, I get the mean for each channel\n",
        "## by usind keepdim = True, I retain the dimensions of the tensor\n",
        "##so normalization is easily applicable by broadcasting\n",
        "\n",
        "mean = batch.mean(dim = [0,2,3], keepdim = True)\n",
        "std = batch.std(dim = [0,2,3], keepdim = True)\n",
        "\n",
        "batch = (batch - mean)/std\n",
        "\n",
        "\n",
        "\n",
        "\n",
        "\n",
        "\n"
      ],
      "execution_count": null,
      "outputs": [
        {
          "output_type": "stream",
          "text": [
            "3\n"
          ],
          "name": "stdout"
        }
      ]
    },
    {
      "cell_type": "code",
      "metadata": {
        "id": "IuU_BDZ8rhzp",
        "colab": {
          "base_uri": "https://localhost:8080/"
        },
        "outputId": "0b030349-4211-4110-92b2-a177d8245392"
      },
      "source": [
        "## Understanding the scatter function in pytorch \n",
        "\n",
        "indices  = torch.tensor([1,2,3,6])\n",
        "source = torch.tensor([8,9,10,100,101,200,300], dtype = torch.float32)\n",
        "destination = torch.zeros(8)\n",
        "\n",
        "## the elements of the source tensor \n",
        "## are sent to the the destination tensor\n",
        "## at the indices specified by the indices tensor\n",
        "destination.scatter(0,indices,source)\n",
        "\n",
        "## the source tensor could also be a scalar\n",
        "\n",
        "## How can this be used to perform one hot encoding\n",
        "## consider a tensor representing three distinct classes\n",
        "classes = torch.tensor([1,1,1,0,0,0,1,2,1,1,2,2])\n",
        "source = 1\n",
        "destination = torch.zeros(12,3)\n",
        "\n",
        "## the _ makes it an inplace function, the tensor is modified in place\n",
        "destination.scatter_(1,classes.unsqueeze(1), 1)\n",
        "\n",
        "\n"
      ],
      "execution_count": null,
      "outputs": [
        {
          "output_type": "execute_result",
          "data": {
            "text/plain": [
              "tensor([[0., 1., 0.],\n",
              "        [0., 1., 0.],\n",
              "        [0., 1., 0.],\n",
              "        [1., 0., 0.],\n",
              "        [1., 0., 0.],\n",
              "        [1., 0., 0.],\n",
              "        [0., 1., 0.],\n",
              "        [0., 0., 1.],\n",
              "        [0., 1., 0.],\n",
              "        [0., 1., 0.],\n",
              "        [0., 0., 1.],\n",
              "        [0., 0., 1.]])"
            ]
          },
          "metadata": {
            "tags": []
          },
          "execution_count": 23
        }
      ]
    },
    {
      "cell_type": "code",
      "metadata": {
        "id": "8RVSHfCwjG7l",
        "colab": {
          "base_uri": "https://localhost:8080/"
        },
        "outputId": "1e7b5ac9-b22a-4d4c-cf45-3e18f3ddc6ed"
      },
      "source": [
        "## Working with the pytorch wine dataset\n",
        "\n",
        "import csv\n",
        "import numpy as np\n",
        "\n",
        "wine_path = 'data/p1ch4/tabular-wine/winequality-white.csv'\n",
        "\n",
        "## in the textbook csv.reader was used to read column names\n",
        "## and numpy's loadtxt was used to read the numerical data\n",
        "## I'd think pandas is a much better option to do both together\n",
        "col_names = next(csv.reader(open(wine_path), delimiter = ';')) \n",
        "wine_numpy = np.loadtxt(wine_path, dtype = np.float32, delimiter = \";\", skiprows = 1)\n",
        "wineq = torch.from_numpy(wine_numpy) \n",
        "\n",
        "## second step: separating the dataset into the input data and target variables\n",
        "## data is everything except the last column\n",
        "data = wineq[:, :-1]\n",
        "\n",
        "## target is just the last column\n",
        "## we convert it to long because the scatter function requires int64 for indices\n",
        "target = wineq[:,-1].long()\n",
        "\n",
        "## one hot encode the target based on the technique above\n",
        "target_onehot = torch.zeros(data.size()[0], len(col_names))\n",
        "target_onehot.scatter_(1,target.unsqueeze(1),1.0)\n",
        "\n",
        "## find mean and standard deviation in a vectorized manner \n",
        "## dim here is the dimension to collapse, so the metric is \n",
        "## calculated along the dimensions not in dim \n",
        "mean = data.mean(dim = 0, keepdim = True)\n",
        "std_dev = data.std(dim = 0, keepdim= True)\n",
        "\n",
        "## normalize the wine data\n",
        "data = (data - mean) / std_dev\n",
        "\n"
      ],
      "execution_count": null,
      "outputs": [
        {
          "output_type": "stream",
          "text": [
            "torch.Size([4898, 12])\n"
          ],
          "name": "stdout"
        }
      ]
    },
    {
      "cell_type": "code",
      "metadata": {
        "id": "PHD2spcyurur",
        "colab": {
          "base_uri": "https://localhost:8080/"
        },
        "outputId": "0a30b3ab-4e8c-442b-e4c0-50c4a5457eb4"
      },
      "source": [
        "## Exploratory data analysis \n",
        "## 1. Text book : How do we tell apart good and bad wines ?\n",
        "## calculations here are done with normalized data, unlike the textbook\n",
        "## I feel this makes it easier to visualize relative merits/demerits\n",
        "\n",
        "\n",
        "bad_indices = target <= 3\n",
        "bad_indices.shape , bad_indices.dtype , bad_indices.sum()\n",
        "\n",
        "#brackets are necessary here, otherwise & will take precedence\n",
        "#I've spent countless hours debuggint this issue\n",
        "med_indices = (target >=3) & (target<7)\n",
        "good_indices = target >= 7\n",
        "\n",
        "## boolean indexing, the boolean tensor bad_indices is used to filter the bad_wines dataset\n",
        "## data points where the index has value True are retained, the others discarded\n",
        "bad_wines = data[bad_indices]\n",
        "medium_wines = data[med_indices]\n",
        "good_wines = data[good_indices]\n",
        "\n",
        "## calculate means separately for each of the wine types, and display \n",
        "bad_wines_mean = bad_wines.mean(dim = 0)\n",
        "medium_wines_mean = medium_wines.mean(dim = 0)\n",
        "good_wines_mean = good_wines.mean(dim = 0)\n",
        "\n",
        "\n",
        "## zip creates tuples of means for each characteristic of bad, medium and good quality wines\n",
        "for i, means in enumerate( zip(col_names, bad_wines_mean, medium_wines_mean, good_wines_mean)): \n",
        "  print(\"{:1} {:40}  {:6.2f} {:6.2f}  {:6.2f} \".format(i, *means))\n",
        "  \n",
        "\n"
      ],
      "execution_count": null,
      "outputs": [
        {
          "output_type": "stream",
          "text": [
            "0 fixed acidity                               0.88   0.04   -0.15 \n",
            "1 volatile acidity                            0.55   0.04   -0.13 \n",
            "2 citric acid                                 0.01   0.02   -0.07 \n",
            "3 residual sugar                              0.00   0.06   -0.22 \n",
            "4 chlorides                                   0.39   0.10   -0.35 \n",
            "5 free sulfur dioxide                         1.06   0.01   -0.04 \n",
            "6 total sulfur dioxide                        0.76   0.09   -0.31 \n",
            "7 density                                     0.29   0.15   -0.54 \n",
            "8 pH                                         -0.01  -0.05    0.18 \n",
            "9 sulphates                                  -0.13  -0.02    0.09 \n",
            "10 alcohol                                    -0.14  -0.20    0.73 \n"
          ],
          "name": "stdout"
        }
      ]
    },
    {
      "cell_type": "code",
      "metadata": {
        "colab": {
          "base_uri": "https://localhost:8080/"
        },
        "id": "q2iuyaMwNsaA",
        "outputId": "58b31bc4-a085-4e4f-c332-d9dde63b5dcd"
      },
      "source": [
        "## simple thresholding model on tota sulfur dioxide\n",
        "## calculate std deviations separately for each of the wine types, and display \n",
        "bad_wines_std = bad_wines.std(dim = 0)\n",
        "medium_wines_std = medium_wines.std(dim = 0)\n",
        "good_wines_std = good_wines.std(dim = 0)\n",
        "\n",
        "bad_wines_metrics, medium_wines_metrics, good_wines_metrics = zip( bad_wines_mean, bad_wines_std) , zip(medium_wines_mean, medium_wines_std) , zip(good_wines_mean, good_wines_std)\n",
        "\n",
        "print(\"{:2} {:45} {:12} {:12} {:12}\".format(\"N\", \"colname\" , \"bad\" , \"medium\" , \"good\" ))\n",
        "## zip creates tuples of means for each characteristic of bad, medium and good quality wines\n",
        "for i, metrics in enumerate( zip(col_names, bad_wines_metrics, medium_wines_metrics, good_wines_metrics)):\n",
        "  colname, bad_metrics, medium_metrics, good_metrics = metrics[0] , metrics[1], metrics[2], metrics[3]\n",
        "  \n",
        "  print(\"{:2} {:40}  {:6.2f}{:6.2f} , {:6.2f}{:6.2f}, {:6.2f}{:6.2f}\".format(i, colname , *bad_metrics, *medium_metrics, *good_metrics))\n",
        "\n",
        "\n",
        " \n",
        "\n"
      ],
      "execution_count": null,
      "outputs": [
        {
          "output_type": "stream",
          "text": [
            "N  colname                                       bad          medium       good        \n",
            " 0 fixed acidity                               0.88  2.04 ,   0.04  1.02,  -0.15  0.91\n",
            " 1 volatile acidity                            0.55  1.40 ,   0.04  1.01,  -0.13  0.93\n",
            " 2 citric acid                                 0.01  0.67 ,   0.02  1.07,  -0.07  0.66\n",
            " 3 residual sugar                              0.00  1.05 ,   0.06  1.03,  -0.22  0.85\n",
            " 4 chlorides                                   0.39  2.13 ,   0.10  1.08,  -0.35  0.51\n",
            " 5 free sulfur dioxide                         1.06  4.08 ,   0.01  1.05,  -0.04  0.81\n",
            " 6 total sulfur dioxide                        0.76  2.54 ,   0.09  1.04,  -0.31  0.77\n",
            " 7 density                                     0.29  0.95 ,   0.15  0.97,  -0.54  0.93\n",
            " 8 pH                                         -0.01  1.39 ,  -0.05  0.98,   0.18  1.04\n",
            " 9 sulphates                                  -0.13  1.05 ,  -0.02  0.95,   0.09  1.17\n",
            "10 alcohol                                    -0.14  0.99 ,  -0.20  0.89,   0.73  1.02\n"
          ],
          "name": "stdout"
        }
      ]
    },
    {
      "cell_type": "code",
      "metadata": {
        "colab": {
          "base_uri": "https://localhost:8080/"
        },
        "id": "kVUAJ36zEOYn",
        "outputId": "b7765441-5319-4c8a-f32e-965e2d42f76f"
      },
      "source": [
        " \n",
        "\n",
        "## Considering the data, I choose a threshold for density that can act as a classifer\n",
        "## lets try 1 std dev below the mean \n",
        "\n",
        "threshold = good_wines_mean[7] - 1*good_wines_std[7]\n",
        "\n",
        "predicted_good_indices = data[:,7] < threshold\n",
        "\n",
        "print(threshold)\n",
        "\n",
        "print(sum(good_indices))\n",
        "print(sum(predicted_good_indices))\n",
        "print(target[(good_indices == False) & (predicted_good_indices == True) ])\n",
        "print(sum(torch.logical_and(good_indices, predicted_good_indices)))\n",
        "\n",
        "## Evaluate the precision of this model \n",
        "print(sum(torch.logical_and(good_indices, predicted_good_indices))/ sum(predicted_good_indices))\n",
        "\n",
        "## Evaluate the recall \n",
        "print(sum(torch.logical_and(good_indices, predicted_good_indices))/ sum(good_indices))\n",
        "\n",
        "## Note the poor precision and recall, to have my best bet at precision, I chose density because it had the lowest variability"
      ],
      "execution_count": null,
      "outputs": [
        {
          "output_type": "stream",
          "text": [
            "tensor(-1.4668)\n",
            "tensor(1060)\n",
            "tensor(254)\n",
            "tensor([6, 6, 6, 6, 6, 6, 6, 6, 6, 6, 6, 6, 6, 6, 6, 6, 6, 6, 5, 6, 6, 6, 6, 6,\n",
            "        6, 6, 6, 5, 6, 6, 6, 6, 6, 6, 6, 6, 6, 6, 4, 6, 5, 6, 6, 6, 6, 6, 6, 6,\n",
            "        6, 6, 6, 5, 6, 6, 5, 5, 6, 6, 6, 6, 6, 6, 6, 6, 6, 6, 6, 6, 5, 6, 6, 6,\n",
            "        6, 6, 6, 6, 6, 6, 6, 6, 6, 6, 6, 6, 6, 6, 6, 6, 6, 6, 6, 6, 6, 6, 6, 6,\n",
            "        6, 6, 6, 6, 6, 6, 6, 6, 6, 6, 6, 4, 6, 6, 6, 6, 6, 6, 6, 6])\n",
            "tensor(138)\n",
            "tensor(0.5433)\n",
            "tensor(0.1302)\n"
          ],
          "name": "stdout"
        }
      ]
    },
    {
      "cell_type": "markdown",
      "metadata": {
        "id": "KzCvnb1ztB32"
      },
      "source": [
        "Time series data: Case Study: Analyzing Washington DC's bike sharing system's hourly count of rental bikes. "
      ]
    },
    {
      "cell_type": "code",
      "metadata": {
        "id": "gCBqZz9otAw7"
      },
      "source": [
        "## Read in data\n",
        "\n",
        "bike_path = 'data/p1ch4/bike-sharing-dataset/hour-fixed.csv'\n",
        "## a dictionary is the input to converters, the dictionary contains functions to convert the column to a number\n",
        "bikes_numpy = np.loadtxt(fname = bike_path, dtype = np.float32, skiprows = 1, delimiter = \",\", converters= {1 : lambda x: float(x[8:10])})\n",
        "\n",
        "\n"
      ],
      "execution_count": null,
      "outputs": []
    },
    {
      "cell_type": "code",
      "metadata": {
        "id": "0yXz3El68oMy"
      },
      "source": [
        ""
      ],
      "execution_count": null,
      "outputs": []
    }
  ]
}