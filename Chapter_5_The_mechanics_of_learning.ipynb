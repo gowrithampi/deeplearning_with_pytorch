{
  "nbformat": 4,
  "nbformat_minor": 0,
  "metadata": {
    "colab": {
      "name": "Chapter 5: The mechanics of learning.ipynb",
      "provenance": [],
      "authorship_tag": "ABX9TyNnrbrisQequmvUCabCIS52",
      "include_colab_link": true
    },
    "kernelspec": {
      "name": "python3",
      "display_name": "Python 3"
    },
    "language_info": {
      "name": "python"
    }
  },
  "cells": [
    {
      "cell_type": "markdown",
      "metadata": {
        "id": "view-in-github",
        "colab_type": "text"
      },
      "source": [
        "<a href=\"https://colab.research.google.com/github/gowrithampi/deeplearning_with_pytorch/blob/main/Chapter_5_The_mechanics_of_learning.ipynb\" target=\"_parent\"><img src=\"https://colab.research.google.com/assets/colab-badge.svg\" alt=\"Open In Colab\"/></a>"
      ]
    },
    {
      "cell_type": "markdown",
      "metadata": {
        "id": "-xN4Uzoyt9P3"
      },
      "source": [
        "# Deep Learning with Pytorch\n",
        "## Chapter 5: The Mechanics of Learning"
      ]
    },
    {
      "cell_type": "markdown",
      "metadata": {
        "id": "3igl2CsVid8R"
      },
      "source": [
        "This is a fun chapter it familiarizes one with the idea of learning, by building a simple linear regression model by gradient descent. "
      ]
    },
    {
      "cell_type": "markdown",
      "metadata": {
        "id": "xcLxvu9ztote"
      },
      "source": [
        "Problem statement : There is a cool thermometer hanging on the wall. It seems to measure temperature, but we don't know what unit it measures temperature in. We want a way to convert the temperature shown by the thermometer to celsius. \n"
      ]
    },
    {
      "cell_type": "markdown",
      "metadata": {
        "id": "Owxqm_WYla1e"
      },
      "source": [
        "Our strategy: We observe a set of temperature data, from our little pocket celsius thermometer and the corresponding reading from the wall thermometer. Armed with this data, we tackle this problem as a machine learning problem.\n",
        "Assuming there is a linear relationship between the readings from both thermometers, we use gradient descent to learn the weights of our model. \n",
        "First without pytorch's autograd and then with it. "
      ]
    },
    {
      "cell_type": "code",
      "metadata": {
        "id": "yX2PSwBgvFZ8"
      },
      "source": [
        "# t_c is a list of temperatures observed in celsius\n",
        "# t_u is a list of temperatures observed in unknown units \n",
        "import torch\n",
        "t_c = [0.5, 14.0, 15.0,28.0,11.0,8.0,3.0,-4.0,6.0,13.0,21.0]\n",
        "t_u = [35.7,55.9,58.2,81.9,56.3,48.9,33.9,21.8,48.4,60.4,68.4]\n",
        "t_c = torch.tensor(t_c)\n",
        "t_u = torch.tensor(t_u)\n"
      ],
      "execution_count": 1,
      "outputs": []
    },
    {
      "cell_type": "markdown",
      "metadata": {
        "id": "Wel7AtmjwZ1W"
      },
      "source": [
        "Let's visualize above data"
      ]
    },
    {
      "cell_type": "code",
      "metadata": {
        "colab": {
          "base_uri": "https://localhost:8080/",
          "height": 295
        },
        "id": "pznLnRc5wdpB",
        "outputId": "59e3aaeb-30a7-4992-c529-49d18a0a4aec"
      },
      "source": [
        "import matplotlib.pyplot as plt\n",
        "\n",
        "fig, ax = plt.subplots()\n",
        "\n",
        "plt.scatter(t_u, t_c)\n",
        "plt.title('Temperature scatter plot')\n",
        "ax.set_xlabel('Temperature in unknown units')\n",
        "ax.set_ylabel('Temperature in celsius')\n",
        "plt.show()"
      ],
      "execution_count": 18,
      "outputs": [
        {
          "output_type": "display_data",
          "data": {
            "image/png": "[encoded data removed]",
            "text/plain": [
              "<Figure size 432x288 with 1 Axes>"
            ]
          },
          "metadata": {
            "tags": [],
            "needs_background": "light"
          }
        }
      ]
    },
    {
      "cell_type": "code",
      "metadata": {
        "id": "tt0vC_0Ey-fQ"
      },
      "source": [
        "## linear model \n",
        "def model (t_u, w , b):\n",
        "  # predicted temperature is \n",
        "  # weight times unknown temp\n",
        "  # plus bias \n",
        "  # w and b are scalars\n",
        "  # their values get broadcasted\n",
        "  # across the vector v_u\n",
        "  t_p = w*t_u +b \n",
        "  return t_p"
      ],
      "execution_count": 1,
      "outputs": []
    }
  ]
}