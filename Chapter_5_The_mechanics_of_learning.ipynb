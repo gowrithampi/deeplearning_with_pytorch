{
  "nbformat": 4,
  "nbformat_minor": 0,
  "metadata": {
    "colab": {
      "name": "Chapter 5: The mechanics of learning.ipynb",
      "provenance": [],
      "collapsed_sections": [],
      "authorship_tag": "ABX9TyNz01cpP11dZ0Jy0SrFHEm7",
      "include_colab_link": true
    },
    "kernelspec": {
      "name": "python3",
      "display_name": "Python 3"
    },
    "language_info": {
      "name": "python"
    }
  },
  "cells": [
    {
      "cell_type": "markdown",
      "metadata": {
        "id": "view-in-github",
        "colab_type": "text"
      },
      "source": [
        "<a href=\"https://colab.research.google.com/github/gowrithampi/deeplearning_with_pytorch/blob/main/Chapter_5_The_mechanics_of_learning.ipynb\" target=\"_parent\"><img src=\"https://colab.research.google.com/assets/colab-badge.svg\" alt=\"Open In Colab\"/></a>"
      ]
    },
    {
      "cell_type": "markdown",
      "metadata": {
        "id": "-xN4Uzoyt9P3"
      },
      "source": [
        "# Deep Learning with Pytorch\n",
        "## Chapter 5: The Mechanics of Learning\n",
        "\n",
        "### This is based entirely on the Text Book: \n",
        "### Deep Learning with PyTorch by \n",
        "* Eli Stevens\n",
        "* Luca Antiga\n",
        "* Thomas Viehmann\n",
        "\n",
        "I added my own mini experiments, insights, an eye into my struggles and my understanding of the text as I move through it. However phrases, sentences from the author may creep in. I don't claim this to be adding significantly to their work, neither do I seek to gain monetary compensation from this effort.  \n",
        "The original code in the textbook is available here:\n",
        "\n",
        "https://github.com/deep-learning-with-pytorch/dlwpt-code"
      ]
    },
    {
      "cell_type": "markdown",
      "metadata": {
        "id": "3igl2CsVid8R"
      },
      "source": [
        "This is a fun chapter it familiarizes one with the idea of learning, by building a simple linear regression model by gradient descent. "
      ]
    },
    {
      "cell_type": "markdown",
      "metadata": {
        "id": "xcLxvu9ztote"
      },
      "source": [
        "Problem statement : There is a cool thermometer hanging on the wall. It seems to measure temperature, but we don't know what unit it measures temperature in. We want a way to convert the temperature shown by the thermometer to celsius. \n"
      ]
    },
    {
      "cell_type": "markdown",
      "metadata": {
        "id": "Owxqm_WYla1e"
      },
      "source": [
        "Our strategy: We observe a set of temperature data, from our little pocket celsius thermometer and the corresponding reading from the wall thermometer. Armed with this data, we tackle this problem as a machine learning problem.\n",
        "Assuming there is a linear relationship between the readings from both thermometers, we use gradient descent to learn the weights of our model. \n",
        "First without pytorch's autograd and then with it. "
      ]
    },
    {
      "cell_type": "code",
      "metadata": {
        "id": "yX2PSwBgvFZ8"
      },
      "source": [
        "# t_c is a list of temperatures observed in celsius\n",
        "# t_u is a list of temperatures observed in unknown units \n",
        "import torch\n",
        "t_c = [0.5, 14.0, 15.0,28.0,11.0,8.0,3.0,-4.0,6.0,13.0,21.0]\n",
        "t_u = [35.7,55.9,58.2,81.9,56.3,48.9,33.9,21.8,48.4,60.4,68.4]\n",
        "t_c = torch.tensor(t_c)\n",
        "t_u = torch.tensor(t_u)\n"
      ],
      "execution_count": 1,
      "outputs": []
    },
    {
      "cell_type": "markdown",
      "metadata": {
        "id": "Wel7AtmjwZ1W"
      },
      "source": [
        "Let's visualize above data"
      ]
    },
    {
      "cell_type": "code",
      "metadata": {
        "colab": {
          "base_uri": "https://localhost:8080/",
          "height": 295
        },
        "id": "pznLnRc5wdpB",
        "outputId": "2c5c1044-59ad-4b0b-bfad-40c0930fe650"
      },
      "source": [
        "import matplotlib.pyplot as plt\n",
        "\n",
        "fig, ax = plt.subplots()\n",
        "\n",
        "plt.scatter(t_u, t_c)\n",
        "plt.title('Temperature scatter plot')\n",
        "ax.set_xlabel('Temperature in unknown units')\n",
        "ax.set_ylabel('Temperature in celsius')\n",
        "plt.show()"
      ],
      "execution_count": 2,
      "outputs": [
        {
          "output_type": "display_data",
          "data": {
            "image/png": "[encoded data removed]",
            "text/plain": [
              "<Figure size 432x288 with 1 Axes>"
            ]
          },
          "metadata": {
            "tags": [],
            "needs_background": "light"
          }
        }
      ]
    },
    {
      "cell_type": "code",
      "metadata": {
        "id": "tt0vC_0Ey-fQ"
      },
      "source": [
        "## linear model \n",
        "def model (t_u, w , b):\n",
        "  # predicted temperature is \n",
        "  # weight times unknown temp\n",
        "  # plus bias \n",
        "  # w and b are scalars\n",
        "  # their values get broadcasted\n",
        "  # across the vector v_u\n",
        "  t_p = w*t_u +b \n",
        "  return t_p"
      ],
      "execution_count": 3,
      "outputs": []
    },
    {
      "cell_type": "markdown",
      "metadata": {
        "id": "CM6rKglZ3hMJ"
      },
      "source": [
        "Now we need a loss function. A loss function is a function of the model parameters, that needs to decrease as learning progresses. This is how we know that we are learning (updating the model parameters) in the right direction. \n",
        "\n",
        "If the loss function is convex, then it will have a global minimum, and the argmin of the loss function will be the final value of the model parameters. \n",
        "\n",
        "Here we use the mean squared error between t_c (the observed temperature in celsius) and t_p(the temperature predicted by our model) as the loss function. \n"
      ]
    },
    {
      "cell_type": "code",
      "metadata": {
        "id": "BEcUmYmy4PiY"
      },
      "source": [
        "def loss_function (t_c, t_p):\n",
        "\n",
        "  squared_error = (t_c - t_p)**2\n",
        "  mean_squared_error = squared_error.mean()\n",
        "  return mean_squared_error\n",
        "\n"
      ],
      "execution_count": 4,
      "outputs": []
    },
    {
      "cell_type": "code",
      "metadata": {
        "id": "CJ2v9Foo3f9B",
        "colab": {
          "base_uri": "https://localhost:8080/"
        },
        "outputId": "d1405738-dd36-430d-fc60-87c34c765e35"
      },
      "source": [
        "# initialize weights and bias\n",
        "w = torch.ones([])\n",
        "b = torch.zeros([])\n",
        "\n",
        "# model forward pass\n",
        "t_p = w*t_u +b\n",
        "\n",
        "# calculate loss\n",
        "loss = loss_function(t_c, t_p)\n",
        "\n",
        "print(loss)"
      ],
      "execution_count": 5,
      "outputs": [
        {
          "output_type": "stream",
          "text": [
            "tensor(1763.8848)\n"
          ],
          "name": "stdout"
        }
      ]
    },
    {
      "cell_type": "markdown",
      "metadata": {
        "id": "EKjEA-egM4GE"
      },
      "source": [
        "Gradient Descent: The basic idea is that we can find the minimum of the loss function by taking baby steps in the direction in which the function is decreasing. Of course in the case of the above convex function, it is easy to find the global minimum by differentiating the function and equating it to zero. In the interest of learning (our learning, not the model's) though, we'll try to get there by gradient descent. "
      ]
    },
    {
      "cell_type": "code",
      "metadata": {
        "id": "zE-HVpDft1gs"
      },
      "source": [
        "# derivative of loss function with respect to t_p (model)\n",
        "def dloss_fn(t_c, t_p):\n",
        "  dloss_dtp = 2 * (t_p - t_c)/t_p.size(0)\n",
        "  return dloss_dtp\n",
        "\n",
        "# derivative of t_p(model) with respect to w\n",
        "def dmodel_dw(t_u, w, b):\n",
        "  return t_u \n",
        "\n",
        "# derivative of t_p(model) with respect to b\n",
        "def dmodel_db(t_u, w, b): \n",
        "   return 1.0 \n",
        "\n",
        "# final gradient depends on input, actuals, prediction and model parameters\n",
        "# final gradient is calculated by using the chain rule and the above gradients\n",
        "def gradient(t_u, t_c, t_p, w, b):\n",
        "    dloss_dw = dloss_fn(t_c, t_p)* dmodel_dw(t_u, w , b)\n",
        "    dloss_db = dloss_fn(t_c, t_p)*dmodel_db(t_u, w, b)\n",
        "    return dloss_dw.sum(), dloss_db.sum()\n"
      ],
      "execution_count": 6,
      "outputs": []
    },
    {
      "cell_type": "markdown",
      "metadata": {
        "id": "Fv1FnOALUtci"
      },
      "source": [
        "The training loop will now consist of iterating through \n",
        "1) A forward pass\n",
        "2) evaluation of gradients at the weights used in the forward pass\n",
        "3) updating the weights using the learning rate and gradients (backward pass)"
      ]
    },
    {
      "cell_type": "code",
      "metadata": {
        "id": "HrSLiDe4VBWg"
      },
      "source": [
        "# training loop also depends on number of epochs and the learning rate\n",
        "def training_loop (n_epochs, learning_rate, t_u, t_c, t_p, params): \n",
        "  w,b = params\n",
        "  for epoch in range(1, n_epochs): \n",
        "    grad_w , grad_b = gradient(t_u, t_c, t_p , w, b) \n",
        "    w = w - learning_rate*grad_w\n",
        "    b = b - learning_rate*grad_b\n",
        "    t_p = model(t_u, w,b)\n",
        "    loss = loss_function(t_c, t_p)\n",
        "    if (epoch % 50 == 0): \n",
        "     print(\"Epoch number {0:.0f} , Loss is {1:.2f}\".format(epoch,loss))\n",
        "     print(\"Bias is {bias:0.4f} and Weight is {weight: 0.4f} \\n\\n\".format( bias = b,weight = w))\n",
        "\n",
        "  return w, b\n"
      ],
      "execution_count": 7,
      "outputs": []
    },
    {
      "cell_type": "code",
      "metadata": {
        "colab": {
          "base_uri": "https://localhost:8080/"
        },
        "id": "a6xoKcu6W7m5",
        "outputId": "ea0adb5a-d2bb-4ac7-aecb-e02906c388ea"
      },
      "source": [
        "# initialize weights and bias\n",
        "w = torch.ones([])\n",
        "b = torch.zeros([])\n",
        "training_loop(100, 0.0001, t_u, t_c, t_p , (w,b))"
      ],
      "execution_count": 8,
      "outputs": [
        {
          "output_type": "stream",
          "text": [
            "Epoch number 50 , Loss is 29.07\n",
            "Bias is -0.0287 and Weight is  0.2325 \n",
            "\n",
            "\n"
          ],
          "name": "stdout"
        },
        {
          "output_type": "execute_result",
          "data": {
            "text/plain": [
              "(tensor(0.2327), tensor(-0.0435))"
            ]
          },
          "metadata": {
            "tags": []
          },
          "execution_count": 8
        }
      ]
    },
    {
      "cell_type": "code",
      "metadata": {
        "id": "5xR61FIgoJ0T"
      },
      "source": [
        ""
      ],
      "execution_count": 8,
      "outputs": []
    },
    {
      "cell_type": "markdown",
      "metadata": {
        "id": "bpV8S3O2oYV5"
      },
      "source": [
        "### Normalization of inputs: \n",
        "In the first few epochs we can notice that there is an order of magnitude difference between the weight and the bias term.\n",
        "To have a learning rate that works for both the weight and the bias, it is important to normalize these inputs. \n",
        "\n",
        "In the textbook, the authors use a simple rescaling factor of 0.1 for the input t_u. Let's try that.\n",
        "\n"
      ]
    },
    {
      "cell_type": "code",
      "metadata": {
        "id": "BC4bndg3puyC",
        "colab": {
          "base_uri": "https://localhost:8080/"
        },
        "outputId": "e946711a-b426-4118-aed9-cd2c06c820c1"
      },
      "source": [
        "w = torch.ones([])\n",
        "b = torch.zeros([])\n",
        "\n",
        "w,b = training_loop(5000,  1e-2, t_u*0.1, t_c, t_p, params = (w,b))"
      ],
      "execution_count": 9,
      "outputs": [
        {
          "output_type": "stream",
          "text": [
            "Epoch number 50 , Loss is 25.64\n",
            "Bias is -1.2016 and Weight is  2.5231 \n",
            "\n",
            "\n",
            "Epoch number 100 , Loss is 22.09\n",
            "Bias is -2.5140 and Weight is  2.7549 \n",
            "\n",
            "\n",
            "Epoch number 150 , Loss is 19.09\n",
            "Bias is -3.7194 and Weight is  2.9678 \n",
            "\n",
            "\n",
            "Epoch number 200 , Loss is 16.57\n",
            "Bias is -4.8266 and Weight is  3.1634 \n",
            "\n",
            "\n",
            "Epoch number 250 , Loss is 14.43\n",
            "Bias is -5.8435 and Weight is  3.3431 \n",
            "\n",
            "\n",
            "Epoch number 300 , Loss is 12.63\n",
            "Bias is -6.7776 and Weight is  3.5081 \n",
            "\n",
            "\n",
            "Epoch number 350 , Loss is 11.12\n",
            "Bias is -7.6355 and Weight is  3.6596 \n",
            "\n",
            "\n",
            "Epoch number 400 , Loss is 9.84\n",
            "Bias is -8.4235 and Weight is  3.7988 \n",
            "\n",
            "\n",
            "Epoch number 450 , Loss is 8.76\n",
            "Bias is -9.1473 and Weight is  3.9267 \n",
            "\n",
            "\n",
            "Epoch number 500 , Loss is 7.84\n",
            "Bias is -9.8121 and Weight is  4.0441 \n",
            "\n",
            "\n",
            "Epoch number 550 , Loss is 7.08\n",
            "Bias is -10.4228 and Weight is  4.1520 \n",
            "\n",
            "\n",
            "Epoch number 600 , Loss is 6.43\n",
            "Bias is -10.9836 and Weight is  4.2511 \n",
            "\n",
            "\n",
            "Epoch number 650 , Loss is 5.88\n",
            "Bias is -11.4988 and Weight is  4.3421 \n",
            "\n",
            "\n",
            "Epoch number 700 , Loss is 5.42\n",
            "Bias is -11.9720 and Weight is  4.4257 \n",
            "\n",
            "\n",
            "Epoch number 750 , Loss is 5.03\n",
            "Bias is -12.4066 and Weight is  4.5024 \n",
            "\n",
            "\n",
            "Epoch number 800 , Loss is 4.70\n",
            "Bias is -12.8058 and Weight is  4.5730 \n",
            "\n",
            "\n",
            "Epoch number 850 , Loss is 4.42\n",
            "Bias is -13.1724 and Weight is  4.6377 \n",
            "\n",
            "\n",
            "Epoch number 900 , Loss is 4.19\n",
            "Bias is -13.5092 and Weight is  4.6972 \n",
            "\n",
            "\n",
            "Epoch number 950 , Loss is 3.99\n",
            "Bias is -13.8185 and Weight is  4.7519 \n",
            "\n",
            "\n",
            "Epoch number 1000 , Loss is 3.83\n",
            "Bias is -14.1026 and Weight is  4.8021 \n",
            "\n",
            "\n",
            "Epoch number 1050 , Loss is 3.69\n",
            "Bias is -14.3636 and Weight is  4.8482 \n",
            "\n",
            "\n",
            "Epoch number 1100 , Loss is 3.57\n",
            "Bias is -14.6033 and Weight is  4.8905 \n",
            "\n",
            "\n",
            "Epoch number 1150 , Loss is 3.47\n",
            "Bias is -14.8235 and Weight is  4.9294 \n",
            "\n",
            "\n",
            "Epoch number 1200 , Loss is 3.38\n",
            "Bias is -15.0257 and Weight is  4.9651 \n",
            "\n",
            "\n",
            "Epoch number 1250 , Loss is 3.31\n",
            "Bias is -15.2114 and Weight is  4.9979 \n",
            "\n",
            "\n",
            "Epoch number 1300 , Loss is 3.25\n",
            "Bias is -15.3820 and Weight is  5.0281 \n",
            "\n",
            "\n",
            "Epoch number 1350 , Loss is 3.20\n",
            "Bias is -15.5387 and Weight is  5.0557 \n",
            "\n",
            "\n",
            "Epoch number 1400 , Loss is 3.16\n",
            "Bias is -15.6827 and Weight is  5.0812 \n",
            "\n",
            "\n",
            "Epoch number 1450 , Loss is 3.12\n",
            "Bias is -15.8149 and Weight is  5.1045 \n",
            "\n",
            "\n",
            "Epoch number 1500 , Loss is 3.09\n",
            "Bias is -15.9363 and Weight is  5.1260 \n",
            "\n",
            "\n",
            "Epoch number 1550 , Loss is 3.07\n",
            "Bias is -16.0478 and Weight is  5.1457 \n",
            "\n",
            "\n",
            "Epoch number 1600 , Loss is 3.04\n",
            "Bias is -16.1503 and Weight is  5.1638 \n",
            "\n",
            "\n",
            "Epoch number 1650 , Loss is 3.03\n",
            "Bias is -16.2443 and Weight is  5.1804 \n",
            "\n",
            "\n",
            "Epoch number 1700 , Loss is 3.01\n",
            "Bias is -16.3308 and Weight is  5.1957 \n",
            "\n",
            "\n",
            "Epoch number 1750 , Loss is 3.00\n",
            "Bias is -16.4101 and Weight is  5.2097 \n",
            "\n",
            "\n",
            "Epoch number 1800 , Loss is 2.99\n",
            "Bias is -16.4831 and Weight is  5.2226 \n",
            "\n",
            "\n",
            "Epoch number 1850 , Loss is 2.98\n",
            "Bias is -16.5500 and Weight is  5.2344 \n",
            "\n",
            "\n",
            "Epoch number 1900 , Loss is 2.97\n",
            "Bias is -16.6115 and Weight is  5.2453 \n",
            "\n",
            "\n",
            "Epoch number 1950 , Loss is 2.96\n",
            "Bias is -16.6680 and Weight is  5.2552 \n",
            "\n",
            "\n",
            "Epoch number 2000 , Loss is 2.96\n",
            "Bias is -16.7199 and Weight is  5.2644 \n",
            "\n",
            "\n",
            "Epoch number 2050 , Loss is 2.95\n",
            "Bias is -16.7676 and Weight is  5.2728 \n",
            "\n",
            "\n",
            "Epoch number 2100 , Loss is 2.95\n",
            "Bias is -16.8114 and Weight is  5.2806 \n",
            "\n",
            "\n",
            "Epoch number 2150 , Loss is 2.95\n",
            "Bias is -16.8516 and Weight is  5.2877 \n",
            "\n",
            "\n",
            "Epoch number 2200 , Loss is 2.94\n",
            "Bias is -16.8885 and Weight is  5.2942 \n",
            "\n",
            "\n",
            "Epoch number 2250 , Loss is 2.94\n",
            "Bias is -16.9224 and Weight is  5.3002 \n",
            "\n",
            "\n",
            "Epoch number 2300 , Loss is 2.94\n",
            "Bias is -16.9536 and Weight is  5.3057 \n",
            "\n",
            "\n",
            "Epoch number 2350 , Loss is 2.94\n",
            "Bias is -16.9822 and Weight is  5.3107 \n",
            "\n",
            "\n",
            "Epoch number 2400 , Loss is 2.94\n",
            "Bias is -17.0085 and Weight is  5.3154 \n",
            "\n",
            "\n",
            "Epoch number 2450 , Loss is 2.93\n",
            "Bias is -17.0327 and Weight is  5.3196 \n",
            "\n",
            "\n",
            "Epoch number 2500 , Loss is 2.93\n",
            "Bias is -17.0548 and Weight is  5.3236 \n",
            "\n",
            "\n",
            "Epoch number 2550 , Loss is 2.93\n",
            "Bias is -17.0752 and Weight is  5.3272 \n",
            "\n",
            "\n",
            "Epoch number 2600 , Loss is 2.93\n",
            "Bias is -17.0939 and Weight is  5.3305 \n",
            "\n",
            "\n",
            "Epoch number 2650 , Loss is 2.93\n",
            "Bias is -17.1111 and Weight is  5.3335 \n",
            "\n",
            "\n",
            "Epoch number 2700 , Loss is 2.93\n",
            "Bias is -17.1269 and Weight is  5.3363 \n",
            "\n",
            "\n",
            "Epoch number 2750 , Loss is 2.93\n",
            "Bias is -17.1414 and Weight is  5.3389 \n",
            "\n",
            "\n",
            "Epoch number 2800 , Loss is 2.93\n",
            "Bias is -17.1547 and Weight is  5.3412 \n",
            "\n",
            "\n",
            "Epoch number 2850 , Loss is 2.93\n",
            "Bias is -17.1669 and Weight is  5.3434 \n",
            "\n",
            "\n",
            "Epoch number 2900 , Loss is 2.93\n",
            "Bias is -17.1782 and Weight is  5.3454 \n",
            "\n",
            "\n",
            "Epoch number 2950 , Loss is 2.93\n",
            "Bias is -17.1885 and Weight is  5.3472 \n",
            "\n",
            "\n",
            "Epoch number 3000 , Loss is 2.93\n",
            "Bias is -17.1980 and Weight is  5.3488 \n",
            "\n",
            "\n",
            "Epoch number 3050 , Loss is 2.93\n",
            "Bias is -17.2067 and Weight is  5.3504 \n",
            "\n",
            "\n",
            "Epoch number 3100 , Loss is 2.93\n",
            "Bias is -17.2147 and Weight is  5.3518 \n",
            "\n",
            "\n",
            "Epoch number 3150 , Loss is 2.93\n",
            "Bias is -17.2220 and Weight is  5.3531 \n",
            "\n",
            "\n",
            "Epoch number 3200 , Loss is 2.93\n",
            "Bias is -17.2287 and Weight is  5.3543 \n",
            "\n",
            "\n",
            "Epoch number 3250 , Loss is 2.93\n",
            "Bias is -17.2349 and Weight is  5.3554 \n",
            "\n",
            "\n",
            "Epoch number 3300 , Loss is 2.93\n",
            "Bias is -17.2406 and Weight is  5.3564 \n",
            "\n",
            "\n",
            "Epoch number 3350 , Loss is 2.93\n",
            "Bias is -17.2459 and Weight is  5.3573 \n",
            "\n",
            "\n",
            "Epoch number 3400 , Loss is 2.93\n",
            "Bias is -17.2507 and Weight is  5.3582 \n",
            "\n",
            "\n",
            "Epoch number 3450 , Loss is 2.93\n",
            "Bias is -17.2551 and Weight is  5.3589 \n",
            "\n",
            "\n",
            "Epoch number 3500 , Loss is 2.93\n",
            "Bias is -17.2591 and Weight is  5.3597 \n",
            "\n",
            "\n",
            "Epoch number 3550 , Loss is 2.93\n",
            "Bias is -17.2628 and Weight is  5.3603 \n",
            "\n",
            "\n",
            "Epoch number 3600 , Loss is 2.93\n",
            "Bias is -17.2663 and Weight is  5.3609 \n",
            "\n",
            "\n",
            "Epoch number 3650 , Loss is 2.93\n",
            "Bias is -17.2694 and Weight is  5.3615 \n",
            "\n",
            "\n",
            "Epoch number 3700 , Loss is 2.93\n",
            "Bias is -17.2723 and Weight is  5.3620 \n",
            "\n",
            "\n",
            "Epoch number 3750 , Loss is 2.93\n",
            "Bias is -17.2749 and Weight is  5.3624 \n",
            "\n",
            "\n",
            "Epoch number 3800 , Loss is 2.93\n",
            "Bias is -17.2774 and Weight is  5.3629 \n",
            "\n",
            "\n",
            "Epoch number 3850 , Loss is 2.93\n",
            "Bias is -17.2796 and Weight is  5.3633 \n",
            "\n",
            "\n",
            "Epoch number 3900 , Loss is 2.93\n",
            "Bias is -17.2816 and Weight is  5.3636 \n",
            "\n",
            "\n",
            "Epoch number 3950 , Loss is 2.93\n",
            "Bias is -17.2835 and Weight is  5.3640 \n",
            "\n",
            "\n",
            "Epoch number 4000 , Loss is 2.93\n",
            "Bias is -17.2853 and Weight is  5.3643 \n",
            "\n",
            "\n",
            "Epoch number 4050 , Loss is 2.93\n",
            "Bias is -17.2868 and Weight is  5.3645 \n",
            "\n",
            "\n",
            "Epoch number 4100 , Loss is 2.93\n",
            "Bias is -17.2883 and Weight is  5.3648 \n",
            "\n",
            "\n",
            "Epoch number 4150 , Loss is 2.93\n",
            "Bias is -17.2897 and Weight is  5.3650 \n",
            "\n",
            "\n",
            "Epoch number 4200 , Loss is 2.93\n",
            "Bias is -17.2909 and Weight is  5.3653 \n",
            "\n",
            "\n",
            "Epoch number 4250 , Loss is 2.93\n",
            "Bias is -17.2920 and Weight is  5.3655 \n",
            "\n",
            "\n",
            "Epoch number 4300 , Loss is 2.93\n",
            "Bias is -17.2931 and Weight is  5.3656 \n",
            "\n",
            "\n",
            "Epoch number 4350 , Loss is 2.93\n",
            "Bias is -17.2940 and Weight is  5.3658 \n",
            "\n",
            "\n",
            "Epoch number 4400 , Loss is 2.93\n",
            "Bias is -17.2949 and Weight is  5.3660 \n",
            "\n",
            "\n",
            "Epoch number 4450 , Loss is 2.93\n",
            "Bias is -17.2957 and Weight is  5.3661 \n",
            "\n",
            "\n",
            "Epoch number 4500 , Loss is 2.93\n",
            "Bias is -17.2964 and Weight is  5.3662 \n",
            "\n",
            "\n",
            "Epoch number 4550 , Loss is 2.93\n",
            "Bias is -17.2971 and Weight is  5.3664 \n",
            "\n",
            "\n",
            "Epoch number 4600 , Loss is 2.93\n",
            "Bias is -17.2977 and Weight is  5.3665 \n",
            "\n",
            "\n",
            "Epoch number 4650 , Loss is 2.93\n",
            "Bias is -17.2983 and Weight is  5.3666 \n",
            "\n",
            "\n",
            "Epoch number 4700 , Loss is 2.93\n",
            "Bias is -17.2988 and Weight is  5.3667 \n",
            "\n",
            "\n",
            "Epoch number 4750 , Loss is 2.93\n",
            "Bias is -17.2993 and Weight is  5.3668 \n",
            "\n",
            "\n",
            "Epoch number 4800 , Loss is 2.93\n",
            "Bias is -17.2998 and Weight is  5.3668 \n",
            "\n",
            "\n",
            "Epoch number 4850 , Loss is 2.93\n",
            "Bias is -17.3002 and Weight is  5.3669 \n",
            "\n",
            "\n",
            "Epoch number 4900 , Loss is 2.93\n",
            "Bias is -17.3005 and Weight is  5.3670 \n",
            "\n",
            "\n",
            "Epoch number 4950 , Loss is 2.93\n",
            "Bias is -17.3009 and Weight is  5.3670 \n",
            "\n",
            "\n"
          ],
          "name": "stdout"
        }
      ]
    },
    {
      "cell_type": "markdown",
      "metadata": {
        "id": "e1cPVzSLq4X4"
      },
      "source": [
        "With normalization it was possible to use a larger learning rate of 0.2 and not have the parameters explode. Setting n_epochs to 5000, we can see that the values closely resemble the parameters for converting Fahrenheit to Celsius. \n",
        "The actual values are (w = 5.5556, b = -17.7778). Looks like the fancy wall thermometer was showing the temperature in Fahrenheit"
      ]
    },
    {
      "cell_type": "markdown",
      "metadata": {
        "id": "ahLzxA5Fq5GR"
      },
      "source": [
        "Revisualizing the data using matplotlib"
      ]
    },
    {
      "cell_type": "code",
      "metadata": {
        "colab": {
          "base_uri": "https://localhost:8080/",
          "height": 379
        },
        "id": "kLEb-kaYtb2M",
        "outputId": "f7bdd14c-86bf-42c8-e942-fce14f01ea24"
      },
      "source": [
        "# we scale the input because the model in normalized\n",
        "t_p = model(t_u*0.1, w, b)\n",
        "\n",
        "plt.plot(t_u.numpy(), t_p.detach().numpy())\n",
        "plt.plot(t_u.numpy(), t_c.numpy(), 'o')\n",
        "plt.title(\"Convert fancy thermometer units to celsius\")\n",
        "plt.xlabel('Temperature in unknown unit(probably fahrenheit')\n",
        "plt.ylabel('Temperature in celsius')\n",
        "plt.show()\n",
        "print(t_p)\n",
        "print(w, b)\n",
        "print(t_u*w + b)"
      ],
      "execution_count": 10,
      "outputs": [
        {
          "output_type": "display_data",
          "data": {
            "image/png": "[encoded data removed]",
            "text/plain": [
              "<Figure size 432x288 with 1 Axes>"
            ]
          },
          "metadata": {
            "tags": [],
            "needs_background": "light"
          }
        },
        {
          "output_type": "stream",
          "text": [
            "tensor([ 1.8593, 12.7008, 13.9352, 26.6552, 12.9155,  8.9439,  0.8932, -5.6009,\n",
            "         8.6755, 15.1160, 19.4097])\n",
            "tensor(5.3671) tensor(-17.3012)\n",
            "tensor([174.3037, 282.7188, 295.0630, 422.2629, 284.8656, 245.1492, 164.6429,\n",
            "         99.7012, 242.4656, 306.8706, 349.8073])\n"
          ],
          "name": "stdout"
        }
      ]
    },
    {
      "cell_type": "code",
      "metadata": {
        "id": "MMLMU1LDYNJi"
      },
      "source": [
        ""
      ],
      "execution_count": 10,
      "outputs": []
    },
    {
      "cell_type": "markdown",
      "metadata": {
        "id": "YN1eqfwdaB9E"
      },
      "source": [
        "Pytorch and automatic differentiation.\n",
        "Gradients in pytorch can be calculated via automatic differentiation, instead of manually defining formulae for them. \n",
        "The textbook reworks the above example using automatic differentiation. \n",
        "I will first take a break from this problem to explore automatic differentiation with tensors. We will then get back to the above problem and solve it using automatic differentiation. \n",
        "\n",
        "We can keep the product rule and chain rule of differntiation in mind for checking pytorch's answer"
      ]
    },
    {
      "cell_type": "code",
      "metadata": {
        "colab": {
          "base_uri": "https://localhost:8080/"
        },
        "id": "xnUTdU-1y85A",
        "outputId": "fdbd4732-2334-486d-ee01-a99dcc4192b2"
      },
      "source": [
        "## create a tensor\n",
        "# The parameter requires_grad needs to be set to True, for gradients to accumulate. \n",
        "original = torch.tensor([1,2,3], dtype = torch.float64, requires_grad = True)\n",
        "operand1 = torch.tensor([3,2,1], dtype = torch.float64, requires_grad = True)\n",
        "operand2 = torch.tensor([4,5,6], dtype = torch.float64, requires_grad = True )\n",
        "\n",
        "## the backward pass only works for scalars, so we have created a scalar dor product here\n",
        "dot_product1 = original.dot(operand1)\n",
        "dot_product2 = original.dot(operand2)\n",
        "\n",
        "print(dot_product1, dot_product2)"
      ],
      "execution_count": 11,
      "outputs": [
        {
          "output_type": "stream",
          "text": [
            "tensor(10., dtype=torch.float64, grad_fn=<DotBackward>) tensor(32., dtype=torch.float64, grad_fn=<DotBackward>)\n"
          ],
          "name": "stdout"
        }
      ]
    },
    {
      "cell_type": "code",
      "metadata": {
        "colab": {
          "base_uri": "https://localhost:8080/"
        },
        "id": "yX1eWjEC3Ad3",
        "outputId": "9abc43b9-f82b-4d95-f3ad-af6c47fcd29e"
      },
      "source": [
        "#retain_graph needs to be set to True if we intent to call the backward pass again. \n",
        "#Which we may decide to do to learn  \n",
        "dot_product1.backward(retain_graph = True)\n",
        "original.grad"
      ],
      "execution_count": 12,
      "outputs": [
        {
          "output_type": "execute_result",
          "data": {
            "text/plain": [
              "tensor([3., 2., 1.], dtype=torch.float64)"
            ]
          },
          "metadata": {
            "tags": []
          },
          "execution_count": 12
        }
      ]
    },
    {
      "cell_type": "code",
      "metadata": {
        "colab": {
          "base_uri": "https://localhost:8080/"
        },
        "id": "hC4iIrRx3eUA",
        "outputId": "b9b68d29-cd5a-4618-d62a-d1f2f51e5aaf"
      },
      "source": [
        "# if the gradient of original is not reset to zero,gradients from future calculations\n",
        "# like the one below will accumulate on top of previous calculations. Comment out \n",
        "# the .zero_() function to observe this \n",
        "original.grad.zero_()\n",
        "dot_product2.backward(retain_graph = True)\n",
        "original.grad"
      ],
      "execution_count": 13,
      "outputs": [
        {
          "output_type": "execute_result",
          "data": {
            "text/plain": [
              "tensor([4., 5., 6.], dtype=torch.float64)"
            ]
          },
          "metadata": {
            "tags": []
          },
          "execution_count": 13
        }
      ]
    },
    {
      "cell_type": "code",
      "metadata": {
        "colab": {
          "base_uri": "https://localhost:8080/"
        },
        "id": "wxc_JFQy3pZ3",
        "outputId": "7f47a044-3d8b-4305-83b4-1265a43ccc36"
      },
      "source": [
        "original.grad.zero_()\n",
        "\n",
        "# change the below from + to * , calculate gradients by hand\n",
        "# compare with pytorch's answer \n",
        "\n",
        "output = dot_product1 *dot_product2\n",
        "output.backward(retain_graph = True)\n",
        "original.grad\n",
        "\n"
      ],
      "execution_count": 14,
      "outputs": [
        {
          "output_type": "execute_result",
          "data": {
            "text/plain": [
              "tensor([136., 114.,  92.], dtype=torch.float64)"
            ]
          },
          "metadata": {
            "tags": []
          },
          "execution_count": 14
        }
      ]
    },
    {
      "cell_type": "markdown",
      "metadata": {
        "id": "0hMXDstO7Lz8"
      },
      "source": [
        "Now that I've understood how autograd works. I'm going to try to build the learning model for temperature conversion using autograd"
      ]
    },
    {
      "cell_type": "code",
      "metadata": {
        "id": "W_zYE9uK_IiB"
      },
      "source": [
        "## training function rewritten using autograd\n",
        "\n",
        "def training_loop_auto(n_epochs, learning_rate, t_u, t_c, params): \n",
        "\n",
        "  for epoch in range(0, n_epochs): \n",
        "    # zero out the parameter gradients. \n",
        "    if params.grad is not None: \n",
        "        params.grad.zero_()    \n",
        "    #w, b = params[0] , params[1]\n",
        "    t_p = model(t_u, *params )\n",
        "    \n",
        "    loss = loss_function(t_c, t_p)\n",
        "    loss.backward(retain_graph = True)\n",
        "    # here we are telling pytorch to not include the\n",
        "    # below computation in the forward graph\n",
        "\n",
        "    with torch.no_grad():\n",
        "      if params.grad is not None: \n",
        "          # params updated in place      \n",
        "          params-= learning_rate*params.grad\n",
        "          \n",
        "\n",
        "    if (epoch % 500 == 0):\n",
        "      print(\"Epoch number {epoch_num:d} has loss {loss_value:0.2f}\".format(epoch_num = epoch, loss_value = loss))\n",
        "      print(\"Bias is  {bias:0.2f} has weight is {weight:0.2f}\\n\\n\".format(bias = params[0], weight = params[1]))\n",
        "\n",
        "  return params \n",
        "\n",
        "## Important: I learned that params = params- learning_rate*params.grad \n",
        "## does not update params in place, a different variable called params is created\n",
        "## and assigned the value params - learning_rate*params.grad. \n",
        "## This variable did not have requires_grad = True\n",
        "## My code failed and I did not know why for the longest time\n"
      ],
      "execution_count": 15,
      "outputs": []
    },
    {
      "cell_type": "code",
      "metadata": {
        "colab": {
          "base_uri": "https://localhost:8080/"
        },
        "id": "pDo89ThwSgJT",
        "outputId": "00914100-12bb-4090-b397-4a89fcdfb10b"
      },
      "source": [
        "training_loop_auto(\n",
        "    n_epochs = 5000, \n",
        "    learning_rate = 1e-2, \n",
        "    params = torch.tensor([1.0, 0.0], requires_grad=True), # <1> \n",
        "    t_u = t_u*0.1, # <2> \n",
        "    t_c = t_c)"
      ],
      "execution_count": 16,
      "outputs": [
        {
          "output_type": "stream",
          "text": [
            "Epoch number 0 has loss 80.36\n",
            "Bias is  1.78 has weight is 0.11\n",
            "\n",
            "\n",
            "Epoch number 500 has loss 7.84\n",
            "Bias is  4.05 has weight is -9.83\n",
            "\n",
            "\n",
            "Epoch number 1000 has loss 3.83\n",
            "Bias is  4.80 has weight is -14.11\n",
            "\n",
            "\n",
            "Epoch number 1500 has loss 3.09\n",
            "Bias is  5.13 has weight is -15.94\n",
            "\n",
            "\n",
            "Epoch number 2000 has loss 2.96\n",
            "Bias is  5.26 has weight is -16.72\n",
            "\n",
            "\n",
            "Epoch number 2500 has loss 2.93\n",
            "Bias is  5.32 has weight is -17.06\n",
            "\n",
            "\n",
            "Epoch number 3000 has loss 2.93\n",
            "Bias is  5.35 has weight is -17.20\n",
            "\n",
            "\n",
            "Epoch number 3500 has loss 2.93\n",
            "Bias is  5.36 has weight is -17.26\n",
            "\n",
            "\n",
            "Epoch number 4000 has loss 2.93\n",
            "Bias is  5.36 has weight is -17.29\n",
            "\n",
            "\n",
            "Epoch number 4500 has loss 2.93\n",
            "Bias is  5.37 has weight is -17.30\n",
            "\n",
            "\n"
          ],
          "name": "stdout"
        },
        {
          "output_type": "execute_result",
          "data": {
            "text/plain": [
              "tensor([  5.3671, -17.3012], requires_grad=True)"
            ]
          },
          "metadata": {
            "tags": []
          },
          "execution_count": 16
        }
      ]
    },
    {
      "cell_type": "markdown",
      "metadata": {
        "id": "RvFEykknroJv"
      },
      "source": [
        "## Optimizers\n",
        "\n",
        "Pytorch provides a variety of optimizers, so we don't have to implement gradient descent ourselves. These optimizers also have their own strategies to assist with model convergence. \n",
        "Let us take a look at some of the available optimizers. "
      ]
    },
    {
      "cell_type": "code",
      "metadata": {
        "colab": {
          "base_uri": "https://localhost:8080/"
        },
        "id": "anV0uVrk-LDX",
        "outputId": "9b5ab553-20bb-455e-dca4-8d9ae523ba89"
      },
      "source": [
        "import torch.optim as optim \n",
        "dir(optim)"
      ],
      "execution_count": 17,
      "outputs": [
        {
          "output_type": "execute_result",
          "data": {
            "text/plain": [
              "['ASGD',\n",
              " 'Adadelta',\n",
              " 'Adagrad',\n",
              " 'Adam',\n",
              " 'AdamW',\n",
              " 'Adamax',\n",
              " 'LBFGS',\n",
              " 'Optimizer',\n",
              " 'RMSprop',\n",
              " 'Rprop',\n",
              " 'SGD',\n",
              " 'SparseAdam',\n",
              " '__builtins__',\n",
              " '__cached__',\n",
              " '__doc__',\n",
              " '__file__',\n",
              " '__loader__',\n",
              " '__name__',\n",
              " '__package__',\n",
              " '__path__',\n",
              " '__spec__',\n",
              " '_functional',\n",
              " '_multi_tensor',\n",
              " 'lr_scheduler',\n",
              " 'swa_utils']"
            ]
          },
          "metadata": {
            "tags": []
          },
          "execution_count": 17
        }
      ]
    },
    {
      "cell_type": "code",
      "metadata": {
        "id": "YOX_hGJZ-Qfd"
      },
      "source": [
        "# the optimizer object's constructor takes the model's parameter tensor and the learning rate as its'parameters\n",
        "params = torch.tensor([1.0, 0.0], requires_grad = True)\n",
        "learning_rate = 0.01\n",
        "\n",
        "# sgd stands for stochastic gradient descent. \n",
        "# since our batch size in this case is the entire dataset, we aren't using\n",
        "# this optimizer stochastically \n",
        "\n",
        "sgd_optimizer = optim.SGD([params], lr = learning_rate)\n",
        "\n"
      ],
      "execution_count": 18,
      "outputs": []
    },
    {
      "cell_type": "code",
      "metadata": {
        "id": "ubTyQM4SttaJ"
      },
      "source": [
        "#rewriting the training loop\n",
        "\n",
        "def training_loop_with_optim(n_epochs,t_c, t_u, params, learning_rate, opt):\n",
        "\n",
        "  for epoch in range(1,n_epochs): \n",
        "      t_p = model(t_u, *params) \n",
        "      loss = loss_function(t_c, t_p)\n",
        "      #print(loss, params.grad)\n",
        "      opt.zero_grad()\n",
        "      loss.backward()\n",
        "      opt.step()\n",
        "     \n",
        "\n",
        "      if epoch% 500 == 0:\n",
        "          print('Epoch {epoch_num: d} Loss is {loss_value:0.2f}'.format(epoch_num=epoch, loss_value = loss))\n",
        "          print('Parameters are {params}'.format(params = params))\n",
        "\n",
        "  return params\n",
        "  \n",
        "\n",
        "\n",
        "\n",
        "\n",
        "\n"
      ],
      "execution_count": 43,
      "outputs": []
    },
    {
      "cell_type": "code",
      "metadata": {
        "colab": {
          "base_uri": "https://localhost:8080/"
        },
        "id": "N7SzeVzkIr8A",
        "outputId": "ee505257-06d0-44de-a185-02173791f900"
      },
      "source": [
        "params = torch.tensor([1.0,0.0], requires_grad = True)\n",
        "opt = optim.SGD([params], lr = 0.01)\n",
        "training_loop_with_optim(5000, t_c, t_u*0.1, params, learning_rate, opt)\n"
      ],
      "execution_count": 45,
      "outputs": [
        {
          "output_type": "stream",
          "text": [
            "Epoch  500 Loss is 7.86\n",
            "Parameters are tensor([ 4.0443, -9.8133], requires_grad=True)\n",
            "Epoch  1000 Loss is 3.83\n",
            "Parameters are tensor([  4.8021, -14.1031], requires_grad=True)\n",
            "Epoch  1500 Loss is 3.09\n",
            "Parameters are tensor([  5.1260, -15.9365], requires_grad=True)\n",
            "Epoch  2000 Loss is 2.96\n",
            "Parameters are tensor([  5.2644, -16.7200], requires_grad=True)\n",
            "Epoch  2500 Loss is 2.93\n",
            "Parameters are tensor([  5.3236, -17.0549], requires_grad=True)\n",
            "Epoch  3000 Loss is 2.93\n",
            "Parameters are tensor([  5.3489, -17.1980], requires_grad=True)\n",
            "Epoch  3500 Loss is 2.93\n",
            "Parameters are tensor([  5.3597, -17.2591], requires_grad=True)\n",
            "Epoch  4000 Loss is 2.93\n",
            "Parameters are tensor([  5.3643, -17.2853], requires_grad=True)\n",
            "Epoch  4500 Loss is 2.93\n",
            "Parameters are tensor([  5.3662, -17.2964], requires_grad=True)\n"
          ],
          "name": "stdout"
        },
        {
          "output_type": "execute_result",
          "data": {
            "text/plain": [
              "tensor([  5.3671, -17.3012], requires_grad=True)"
            ]
          },
          "metadata": {
            "tags": []
          },
          "execution_count": 45
        }
      ]
    },
    {
      "cell_type": "markdown",
      "metadata": {
        "id": "fpDiGBd_L3Y9"
      },
      "source": [
        "With other optimizers like Adam, which uses an adaptive learning rate, we will not have to scale our inputs. Trying out adam below"
      ]
    },
    {
      "cell_type": "code",
      "metadata": {
        "colab": {
          "base_uri": "https://localhost:8080/"
        },
        "id": "KJsoOvsyMCIk",
        "outputId": "ac9bd748-5d16-4267-ef4a-05f09856da15"
      },
      "source": [
        "# Adam converges way faster and can take a much larger learning rate\n",
        "\n",
        "params = torch.tensor([1.0,0.0], requires_grad = True)\n",
        "opt = optim.Adam([params], lr = 0.1)\n",
        "training_loop_with_optim(1500, t_c, t_u, params, learning_rate, opt)\n"
      ],
      "execution_count": 48,
      "outputs": [
        {
          "output_type": "stream",
          "text": [
            "Epoch  500 Loss is 7.61\n",
            "Parameters are tensor([  0.4081, -10.0095], requires_grad=True)\n",
            "Epoch  1000 Loss is 3.09\n",
            "Parameters are tensor([  0.5131, -15.9629], requires_grad=True)\n"
          ],
          "name": "stdout"
        },
        {
          "output_type": "execute_result",
          "data": {
            "text/plain": [
              "tensor([  0.5350, -17.2015], requires_grad=True)"
            ]
          },
          "metadata": {
            "tags": []
          },
          "execution_count": 48
        }
      ]
    },
    {
      "cell_type": "markdown",
      "metadata": {
        "id": "gz5UUE4oMdYY"
      },
      "source": [
        "### Validation Set\n",
        "\n",
        "To prevent overfitting the model by minimizing training loss alone, it makes sense to set aside some of the data as a validation set. \n",
        "Best lectures I've seen on overfitting are by Professor Yasser Abu Moustafa of Caltech. \n",
        "Refer the below link: \n",
        "* https://www.youtube.com/watch?v=EQWr3GGCdzw&list=PLD63A284B7615313A&index=11&ab_channel=caltech\n",
        "\n",
        "I suggest watching all his lectures, he explains generalization and learning better than almost anyone else. \n"
      ]
    },
    {
      "cell_type": "code",
      "metadata": {
        "id": "Fm4VLC6EQRJC"
      },
      "source": [
        "n_samples = t_u.shape[0]\n",
        "n_val = int(0.2* n_samples)\n",
        "\n",
        "shuffled_indices = torch.randperm(n_samples)\n",
        "\n",
        "train_indices = shuffled_indices[0:-n_val]\n",
        "val_indices = shuffled_indices[-n_val:n_samples]"
      ],
      "execution_count": 56,
      "outputs": []
    },
    {
      "cell_type": "code",
      "metadata": {
        "id": "yhX7YCYzQd6c"
      },
      "source": [
        "# I am deviating from the textbook a little here\n",
        "# I am setting aside a validation sample within the training loop\n",
        "# because this is ultimately for illustrative purposes\n",
        "# and I got tired of passing too many arguments \n",
        "\n",
        "def training_loop_with_val(n_epochs, t_u, t_c, params, optim): \n",
        "\n",
        "  n_samples = t_u.shape[0]\n",
        "  n_val = int(n_samples * 0.2)\n",
        "  shuffled_indices = torch.randperm(n_samples)\n",
        "\n",
        "  train_indices = shuffled_indices[:-n_val]\n",
        "  val_indices = shuffled_indices[-n_val:n_samples]\n",
        "\n",
        "  train_t_u = t_u[train_indices]\n",
        "  val_t_u = t_u[val_indices]\n",
        "  \n",
        "  train_t_c = t_c[train_indices]\n",
        "  val_t_c = t_c[val_indices]\n",
        "\n",
        "  for epoch in range(1,n_epochs): \n",
        "    train_t_p = model(train_t_u, *params)\n",
        "    val_t_p = model(val_t_u, *params)\n",
        "    train_loss = loss_function(train_t_c, train_t_p)\n",
        "    train_loss.backward()\n",
        "    optim.step()\n",
        "    optim.zero_grad()\n",
        "\n",
        "    ## we use torch.no_grad() here to retaining an expensive forward graph\n",
        "    ## for val_loss which we won't use, ultimately. \n",
        "    \n",
        "    with torch.no_grad():\n",
        "        val_loss = loss_function(val_t_c, val_t_p)\n",
        "    \n",
        "    if(epoch% 500 == 0): \n",
        "      print(\"Epoch {epoch:d} Training loss is {loss_value: 0.2f}\".format(epoch = epoch, loss_value = train_loss))\n",
        "      print(\"Epoch {epoch:d} Validation loss is {loss_value: 0.2f}\".format(epoch = epoch, loss_value = val_loss))\n",
        "\n",
        "      print(\"Parameters are {params}\".format(params = params))\n",
        "  return params\n",
        "\n"
      ],
      "execution_count": 70,
      "outputs": []
    },
    {
      "cell_type": "code",
      "metadata": {
        "colab": {
          "base_uri": "https://localhost:8080/"
        },
        "id": "5iOd2iWpYU_D",
        "outputId": "8f8a4bdd-1c15-402d-c4c8-50e72f3cb453"
      },
      "source": [
        "from torch import optim \n",
        "params = torch.tensor([1.0, 0.0], requires_grad = True)\n",
        "optim_SGD = optim.SGD([params], lr = 0.01)\n",
        "training_loop_with_val(5000,t_u*0.1, t_c, params, optim_SGD)"
      ],
      "execution_count": 71,
      "outputs": [
        {
          "output_type": "stream",
          "text": [
            "Epoch 500 Training loss is  8.31\n",
            "Epoch 500 Validation loss is  1.08\n",
            "Parameters are tensor([  4.1501, -10.5170], requires_grad=True)\n",
            "Epoch 1000 Training loss is  3.77\n",
            "Epoch 1000 Validation loss is  1.81\n",
            "Parameters are tensor([  4.9339, -15.0677], requires_grad=True)\n",
            "Epoch 1500 Training loss is  2.96\n",
            "Epoch 1500 Validation loss is  3.20\n",
            "Parameters are tensor([  5.2660, -16.9956], requires_grad=True)\n",
            "Epoch 2000 Training loss is  2.81\n",
            "Epoch 2000 Validation loss is  3.99\n",
            "Parameters are tensor([  5.4067, -17.8125], requires_grad=True)\n",
            "Epoch 2500 Training loss is  2.78\n",
            "Epoch 2500 Validation loss is  4.36\n",
            "Parameters are tensor([  5.4663, -18.1585], requires_grad=True)\n",
            "Epoch 3000 Training loss is  2.78\n",
            "Epoch 3000 Validation loss is  4.52\n",
            "Parameters are tensor([  5.4915, -18.3051], requires_grad=True)\n",
            "Epoch 3500 Training loss is  2.78\n",
            "Epoch 3500 Validation loss is  4.59\n",
            "Parameters are tensor([  5.5022, -18.3672], requires_grad=True)\n",
            "Epoch 4000 Training loss is  2.78\n",
            "Epoch 4000 Validation loss is  4.62\n",
            "Parameters are tensor([  5.5067, -18.3936], requires_grad=True)\n",
            "Epoch 4500 Training loss is  2.78\n",
            "Epoch 4500 Validation loss is  4.63\n",
            "Parameters are tensor([  5.5087, -18.4047], requires_grad=True)\n"
          ],
          "name": "stdout"
        },
        {
          "output_type": "execute_result",
          "data": {
            "text/plain": [
              "tensor([  5.5095, -18.4094], requires_grad=True)"
            ]
          },
          "metadata": {
            "tags": []
          },
          "execution_count": 71
        }
      ]
    },
    {
      "cell_type": "markdown",
      "metadata": {
        "id": "Q55oaSOgactz"
      },
      "source": [
        "#### That's it for Chapter 5!   \n",
        "#### See you in Chapter 6! \n"
      ]
    }
  ]
}