{
  "nbformat": 4,
  "nbformat_minor": 0,
  "metadata": {
    "colab": {
      "name": "Untitled8.ipynb",
      "provenance": [],
      "authorship_tag": "ABX9TyNKJGDYjyllxen14dTNnckc",
      "include_colab_link": true
    },
    "kernelspec": {
      "name": "python3",
      "display_name": "Python 3"
    },
    "language_info": {
      "name": "python"
    }
  },
  "cells": [
    {
      "cell_type": "markdown",
      "metadata": {
        "id": "view-in-github",
        "colab_type": "text"
      },
      "source": [
        "<a href=\"https://colab.research.google.com/github/gowrithampi/deeplearning_with_pytorch/blob/main/Untitled7%20Telling%20birds%20from%20airplanes%3A%20Learning%20from%20images.ipynb\" target=\"_parent\"><img src=\"https://colab.research.google.com/assets/colab-badge.svg\" alt=\"Open In Colab\"/></a>"
      ]
    },
    {
      "cell_type": "markdown",
      "metadata": {
        "id": "l58uLSeQgWxA"
      },
      "source": [
        "Chapter 7 of the book Deep Learning with Pytorch by Eli Stevens, Luca Antiga, Thomas Viehmann\n"
      ]
    },
    {
      "cell_type": "markdown",
      "metadata": {
        "id": "XxoXOtMghapG"
      },
      "source": [
        "In this chapter we build a simple feed forward neural network that performs an image recognition task. \n",
        "\n",
        "CIFAR-10 \n",
        "60,000 tiny 32x32 RGB images, labelled with an integer corresponding to 10 classes. {0:'airplane', 1:'automobile', 2:'bird', 3:'cat', 4:'deer', 5:'dog', 6:'frog', 7:'horse', 8:'ship', 9:'truck'} \n"
      ]
    },
    {
      "cell_type": "code",
      "metadata": {
        "id": "dNQKVBulhxif"
      },
      "source": [
        "cifar_classes = {0:'airplane', 1:'automobile', 2:'bird', 3:'cat', 4:'deer', 5:'dog', 6:'frog', 7:'horse', 8:'ship', 9:'truck'} "
      ],
      "execution_count": 1,
      "outputs": []
    },
    {
      "cell_type": "code",
      "metadata": {
        "colab": {
          "base_uri": "https://localhost:8080/"
        },
        "id": "IBp3v7H8hviB",
        "outputId": "84ad99be-9233-4ccc-f40d-44f1830c2aaa"
      },
      "source": [
        "## Downloading CIFAR 10 Data\n",
        "## Even if you give a dummy data path that may not really exist, torch vision will download the data\n",
        "## the dataset module also has a lot of other standard datasets including MNIST, Fashion MNIST\n",
        "\n",
        "from torchvision import datasets\n",
        "data_path = '..data-unversioned/p1ch7/'\n",
        "##downloading training data\n",
        "cifar10 = datasets.CIFAR10(data_path, train=True, download = True)\n",
        "##downloading validation data\n",
        "cifar10_val = datasets.CIFAR10(data_path, train =False, download = True)"
      ],
      "execution_count": 8,
      "outputs": [
        {
          "output_type": "stream",
          "text": [
            "Files already downloaded and verified\n",
            "Files already downloaded and verified\n"
          ],
          "name": "stdout"
        }
      ]
    },
    {
      "cell_type": "code",
      "metadata": {
        "colab": {
          "base_uri": "https://localhost:8080/",
          "height": 229
        },
        "id": "I4t-S7Z1jiNo",
        "outputId": "d3e6f0c7-20a1-4b02-9b53-03e81fbbd3c3"
      },
      "source": [
        "## to see an image from the list \n",
        "from matplotlib import pyplot as plt\n",
        "img,label = cifar10[0]\n",
        "plt.imshow(img)\n",
        "\n",
        "len(cifar10)"
      ],
      "execution_count": 1,
      "outputs": [
        {
          "output_type": "error",
          "ename": "NameError",
          "evalue": "ignored",
          "traceback": [
            "\u001b[0;31m---------------------------------------------------------------------------\u001b[0m",
            "\u001b[0;31mNameError\u001b[0m                                 Traceback (most recent call last)",
            "\u001b[0;32m<ipython-input-1-cd515affd6f5>\u001b[0m in \u001b[0;36m<module>\u001b[0;34m()\u001b[0m\n\u001b[1;32m      1\u001b[0m \u001b[0;31m## to see an image from the list\u001b[0m\u001b[0;34m\u001b[0m\u001b[0;34m\u001b[0m\u001b[0;34m\u001b[0m\u001b[0m\n\u001b[1;32m      2\u001b[0m \u001b[0;32mfrom\u001b[0m \u001b[0mmatplotlib\u001b[0m \u001b[0;32mimport\u001b[0m \u001b[0mpyplot\u001b[0m \u001b[0;32mas\u001b[0m \u001b[0mplt\u001b[0m\u001b[0;34m\u001b[0m\u001b[0;34m\u001b[0m\u001b[0m\n\u001b[0;32m----> 3\u001b[0;31m \u001b[0mimg\u001b[0m\u001b[0;34m,\u001b[0m\u001b[0mlabel\u001b[0m \u001b[0;34m=\u001b[0m \u001b[0mcifar10\u001b[0m\u001b[0;34m[\u001b[0m\u001b[0;36m0\u001b[0m\u001b[0;34m]\u001b[0m\u001b[0;34m\u001b[0m\u001b[0;34m\u001b[0m\u001b[0m\n\u001b[0m\u001b[1;32m      4\u001b[0m \u001b[0mplt\u001b[0m\u001b[0;34m.\u001b[0m\u001b[0mimshow\u001b[0m\u001b[0;34m(\u001b[0m\u001b[0mimg\u001b[0m\u001b[0;34m)\u001b[0m\u001b[0;34m\u001b[0m\u001b[0;34m\u001b[0m\u001b[0m\n\u001b[1;32m      5\u001b[0m \u001b[0;34m\u001b[0m\u001b[0m\n",
            "\u001b[0;31mNameError\u001b[0m: name 'cifar10' is not defined"
          ]
        }
      ]
    },
    {
      "cell_type": "markdown",
      "metadata": {
        "id": "ORb3EtO8dQ9o"
      },
      "source": [
        "In the above code we accessed an image using python's slicer [] and also the length of cifar10 using python's len() function. This was possible because, Pytorch's dataset module defines the __getitem__ and __len__ functions. The __getitem__ method returns the image as well as its label, for a specific index from the dataset using the [], that is the slicer operator. "
      ]
    },
    {
      "cell_type": "code",
      "metadata": {
        "id": "x7UO1Wgvd2cs"
      },
      "source": [
        ""
      ],
      "execution_count": null,
      "outputs": []
    }
  ]
}