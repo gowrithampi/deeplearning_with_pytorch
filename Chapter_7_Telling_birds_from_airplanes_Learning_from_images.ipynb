{
  "nbformat": 4,
  "nbformat_minor": 0,
  "metadata": {
    "colab": {
      "name": "Chapter 7: Telling birds from airplanes: Learning from images.ipynb",
      "provenance": [],
      "collapsed_sections": [],
      "authorship_tag": "ABX9TyNGw6YFID81dBgq8NPtPmU2",
      "include_colab_link": true
    },
    "kernelspec": {
      "name": "python3",
      "display_name": "Python 3"
    },
    "language_info": {
      "name": "python"
    },
    "widgets": {
      "application/vnd.jupyter.widget-state+json": {
        "6e005642d1124150888f5fc0760fe095": {
          "model_module": "@jupyter-widgets/controls",
          "model_name": "HBoxModel",
          "state": {
            "_view_name": "HBoxView",
            "_dom_classes": [],
            "_model_name": "HBoxModel",
            "_view_module": "@jupyter-widgets/controls",
            "_model_module_version": "1.5.0",
            "_view_count": null,
            "_view_module_version": "1.5.0",
            "box_style": "",
            "layout": "IPY_MODEL_fcb6a10cec624db4b7f5fa9f22c00a52",
            "_model_module": "@jupyter-widgets/controls",
            "children": [
              "IPY_MODEL_66657ea566fa451cbf6610377003c338",
              "IPY_MODEL_025a4b3c87a04cf98356002fcd843d66"
            ]
          }
        },
        "fcb6a10cec624db4b7f5fa9f22c00a52": {
          "model_module": "@jupyter-widgets/base",
          "model_name": "LayoutModel",
          "state": {
            "_view_name": "LayoutView",
            "grid_template_rows": null,
            "right": null,
            "justify_content": null,
            "_view_module": "@jupyter-widgets/base",
            "overflow": null,
            "_model_module_version": "1.2.0",
            "_view_count": null,
            "flex_flow": null,
            "width": null,
            "min_width": null,
            "border": null,
            "align_items": null,
            "bottom": null,
            "_model_module": "@jupyter-widgets/base",
            "top": null,
            "grid_column": null,
            "overflow_y": null,
            "overflow_x": null,
            "grid_auto_flow": null,
            "grid_area": null,
            "grid_template_columns": null,
            "flex": null,
            "_model_name": "LayoutModel",
            "justify_items": null,
            "grid_row": null,
            "max_height": null,
            "align_content": null,
            "visibility": null,
            "align_self": null,
            "height": null,
            "min_height": null,
            "padding": null,
            "grid_auto_rows": null,
            "grid_gap": null,
            "max_width": null,
            "order": null,
            "_view_module_version": "1.2.0",
            "grid_template_areas": null,
            "object_position": null,
            "object_fit": null,
            "grid_auto_columns": null,
            "margin": null,
            "display": null,
            "left": null
          }
        },
        "66657ea566fa451cbf6610377003c338": {
          "model_module": "@jupyter-widgets/controls",
          "model_name": "FloatProgressModel",
          "state": {
            "_view_name": "ProgressView",
            "style": "IPY_MODEL_fbafe2f1b4484ad4b5ac0cd87c9084e8",
            "_dom_classes": [],
            "description": "",
            "_model_name": "FloatProgressModel",
            "bar_style": "success",
            "max": 170498071,
            "_view_module": "@jupyter-widgets/controls",
            "_model_module_version": "1.5.0",
            "value": 170498071,
            "_view_count": null,
            "_view_module_version": "1.5.0",
            "orientation": "horizontal",
            "min": 0,
            "description_tooltip": null,
            "_model_module": "@jupyter-widgets/controls",
            "layout": "IPY_MODEL_7ae46901f85c488fbfff9c120692e80c"
          }
        },
        "025a4b3c87a04cf98356002fcd843d66": {
          "model_module": "@jupyter-widgets/controls",
          "model_name": "HTMLModel",
          "state": {
            "_view_name": "HTMLView",
            "style": "IPY_MODEL_cfd8cac1b82d48b0b2c95b4641da6669",
            "_dom_classes": [],
            "description": "",
            "_model_name": "HTMLModel",
            "placeholder": "​",
            "_view_module": "@jupyter-widgets/controls",
            "_model_module_version": "1.5.0",
            "value": " 170499072/? [00:07&lt;00:00, 23099455.00it/s]",
            "_view_count": null,
            "_view_module_version": "1.5.0",
            "description_tooltip": null,
            "_model_module": "@jupyter-widgets/controls",
            "layout": "IPY_MODEL_457c651cd8df42b487d9185269d26ae0"
          }
        },
        "fbafe2f1b4484ad4b5ac0cd87c9084e8": {
          "model_module": "@jupyter-widgets/controls",
          "model_name": "ProgressStyleModel",
          "state": {
            "_view_name": "StyleView",
            "_model_name": "ProgressStyleModel",
            "description_width": "initial",
            "_view_module": "@jupyter-widgets/base",
            "_model_module_version": "1.5.0",
            "_view_count": null,
            "_view_module_version": "1.2.0",
            "bar_color": null,
            "_model_module": "@jupyter-widgets/controls"
          }
        },
        "7ae46901f85c488fbfff9c120692e80c": {
          "model_module": "@jupyter-widgets/base",
          "model_name": "LayoutModel",
          "state": {
            "_view_name": "LayoutView",
            "grid_template_rows": null,
            "right": null,
            "justify_content": null,
            "_view_module": "@jupyter-widgets/base",
            "overflow": null,
            "_model_module_version": "1.2.0",
            "_view_count": null,
            "flex_flow": null,
            "width": null,
            "min_width": null,
            "border": null,
            "align_items": null,
            "bottom": null,
            "_model_module": "@jupyter-widgets/base",
            "top": null,
            "grid_column": null,
            "overflow_y": null,
            "overflow_x": null,
            "grid_auto_flow": null,
            "grid_area": null,
            "grid_template_columns": null,
            "flex": null,
            "_model_name": "LayoutModel",
            "justify_items": null,
            "grid_row": null,
            "max_height": null,
            "align_content": null,
            "visibility": null,
            "align_self": null,
            "height": null,
            "min_height": null,
            "padding": null,
            "grid_auto_rows": null,
            "grid_gap": null,
            "max_width": null,
            "order": null,
            "_view_module_version": "1.2.0",
            "grid_template_areas": null,
            "object_position": null,
            "object_fit": null,
            "grid_auto_columns": null,
            "margin": null,
            "display": null,
            "left": null
          }
        },
        "cfd8cac1b82d48b0b2c95b4641da6669": {
          "model_module": "@jupyter-widgets/controls",
          "model_name": "DescriptionStyleModel",
          "state": {
            "_view_name": "StyleView",
            "_model_name": "DescriptionStyleModel",
            "description_width": "",
            "_view_module": "@jupyter-widgets/base",
            "_model_module_version": "1.5.0",
            "_view_count": null,
            "_view_module_version": "1.2.0",
            "_model_module": "@jupyter-widgets/controls"
          }
        },
        "457c651cd8df42b487d9185269d26ae0": {
          "model_module": "@jupyter-widgets/base",
          "model_name": "LayoutModel",
          "state": {
            "_view_name": "LayoutView",
            "grid_template_rows": null,
            "right": null,
            "justify_content": null,
            "_view_module": "@jupyter-widgets/base",
            "overflow": null,
            "_model_module_version": "1.2.0",
            "_view_count": null,
            "flex_flow": null,
            "width": null,
            "min_width": null,
            "border": null,
            "align_items": null,
            "bottom": null,
            "_model_module": "@jupyter-widgets/base",
            "top": null,
            "grid_column": null,
            "overflow_y": null,
            "overflow_x": null,
            "grid_auto_flow": null,
            "grid_area": null,
            "grid_template_columns": null,
            "flex": null,
            "_model_name": "LayoutModel",
            "justify_items": null,
            "grid_row": null,
            "max_height": null,
            "align_content": null,
            "visibility": null,
            "align_self": null,
            "height": null,
            "min_height": null,
            "padding": null,
            "grid_auto_rows": null,
            "grid_gap": null,
            "max_width": null,
            "order": null,
            "_view_module_version": "1.2.0",
            "grid_template_areas": null,
            "object_position": null,
            "object_fit": null,
            "grid_auto_columns": null,
            "margin": null,
            "display": null,
            "left": null
          }
        }
      }
    }
  },
  "cells": [
    {
      "cell_type": "markdown",
      "metadata": {
        "id": "view-in-github",
        "colab_type": "text"
      },
      "source": [
        "<a href=\"https://colab.research.google.com/github/gowrithampi/deeplearning_with_pytorch/blob/main/Chapter_7_Telling_birds_from_airplanes_Learning_from_images.ipynb\" target=\"_parent\"><img src=\"https://colab.research.google.com/assets/colab-badge.svg\" alt=\"Open In Colab\"/></a>"
      ]
    },
    {
      "cell_type": "markdown",
      "metadata": {
        "id": "l58uLSeQgWxA"
      },
      "source": [
        "### Chapter 7 of the book Deep Learning with Pytorch by Eli Stevens, Luca Antiga, Thomas Viehmann\n"
      ]
    },
    {
      "cell_type": "markdown",
      "metadata": {
        "id": "XxoXOtMghapG"
      },
      "source": [
        "In this chapter we build a simple feed forward neural network that performs an image recognition task. \n",
        "\n",
        "CIFAR-10 \n",
        "60,000 tiny 32x32 RGB images, labelled with an integer corresponding to 10 classes. {0:'airplane', 1:'automobile', 2:'bird', 3:'cat', 4:'deer', 5:'dog', 6:'frog', 7:'horse', 8:'ship', 9:'truck'} \n"
      ]
    },
    {
      "cell_type": "code",
      "metadata": {
        "id": "dNQKVBulhxif"
      },
      "source": [
        "cifar_classes = {0:'airplane', 1:'automobile', 2:'bird', 3:'cat', 4:'deer', 5:'dog', 6:'frog', 7:'horse', 8:'ship', 9:'truck'} "
      ],
      "execution_count": 1,
      "outputs": []
    },
    {
      "cell_type": "code",
      "metadata": {
        "colab": {
          "base_uri": "https://localhost:8080/",
          "height": 116,
          "referenced_widgets": [
            "6e005642d1124150888f5fc0760fe095",
            "fcb6a10cec624db4b7f5fa9f22c00a52",
            "66657ea566fa451cbf6610377003c338",
            "025a4b3c87a04cf98356002fcd843d66",
            "fbafe2f1b4484ad4b5ac0cd87c9084e8",
            "7ae46901f85c488fbfff9c120692e80c",
            "cfd8cac1b82d48b0b2c95b4641da6669",
            "457c651cd8df42b487d9185269d26ae0"
          ]
        },
        "id": "IBp3v7H8hviB",
        "outputId": "2ab6873e-6583-45e4-e037-dbbfb3e2f1b7"
      },
      "source": [
        "## Downloading CIFAR 10 Data\n",
        "## Even if you give a dummy data path that may not really exist, torch vision will download the data\n",
        "## the dataset module also has a lot of other standard datasets including MNIST, Fashion MNIST\n",
        "import torch\n",
        "from torchvision import datasets\n",
        "data_path = '..data-unversioned/p1ch7/'\n",
        "##downloading training data\n",
        "cifar10 = datasets.CIFAR10(data_path, train=True, download = True)\n",
        "##downloading validation data\n",
        "cifar10_val = datasets.CIFAR10(data_path, train =False, download = True)"
      ],
      "execution_count": 2,
      "outputs": [
        {
          "output_type": "stream",
          "text": [
            "Downloading https://www.cs.toronto.edu/~kriz/cifar-10-python.tar.gz to ..data-unversioned/p1ch7/cifar-10-python.tar.gz\n"
          ],
          "name": "stdout"
        },
        {
          "output_type": "display_data",
          "data": {
            "application/vnd.jupyter.widget-view+json": {
              "model_id": "6e005642d1124150888f5fc0760fe095",
              "version_minor": 0,
              "version_major": 2
            },
            "text/plain": [
              "HBox(children=(FloatProgress(value=0.0, max=170498071.0), HTML(value='')))"
            ]
          },
          "metadata": {
            "tags": []
          }
        },
        {
          "output_type": "stream",
          "text": [
            "\n",
            "Extracting ..data-unversioned/p1ch7/cifar-10-python.tar.gz to ..data-unversioned/p1ch7/\n",
            "Files already downloaded and verified\n"
          ],
          "name": "stdout"
        }
      ]
    },
    {
      "cell_type": "code",
      "metadata": {
        "colab": {
          "base_uri": "https://localhost:8080/",
          "height": 283
        },
        "id": "I4t-S7Z1jiNo",
        "outputId": "172417d3-8f02-4692-a3d8-d8b39626d09f"
      },
      "source": [
        "## to see an image from the list \n",
        "from matplotlib import pyplot as plt\n",
        "img,label = cifar10[0]\n",
        "plt.imshow(img)\n",
        "\n",
        "len(cifar10)"
      ],
      "execution_count": 3,
      "outputs": [
        {
          "output_type": "execute_result",
          "data": {
            "text/plain": [
              "50000"
            ]
          },
          "metadata": {
            "tags": []
          },
          "execution_count": 3
        },
        {
          "output_type": "display_data",
          "data": {
            "image/png": "[encoded data removed]",
            "text/plain": [
              "<Figure size 432x288 with 1 Axes>"
            ]
          },
          "metadata": {
            "tags": [],
            "needs_background": "light"
          }
        }
      ]
    },
    {
      "cell_type": "markdown",
      "metadata": {
        "id": "ORb3EtO8dQ9o"
      },
      "source": [
        "In the above code we accessed an image using python's slicer [] and also the length of cifar10 using python's len() function. This was possible because, Pytorch's dataset module defines the __getitem__ and __len__ functions. The __getitem__ method returns the image as well as its label, for a specific index from the dataset using the [], that is the slicer operator. "
      ]
    },
    {
      "cell_type": "code",
      "metadata": {
        "id": "x7UO1Wgvd2cs"
      },
      "source": [
        "from torchvision import transforms"
      ],
      "execution_count": 4,
      "outputs": []
    },
    {
      "cell_type": "code",
      "metadata": {
        "colab": {
          "base_uri": "https://localhost:8080/"
        },
        "id": "THMbRwhfe3-B",
        "outputId": "83485fbe-4315-45da-871a-73d46d04a104"
      },
      "source": [
        "dir(transforms)"
      ],
      "execution_count": 5,
      "outputs": [
        {
          "output_type": "execute_result",
          "data": {
            "text/plain": [
              "['AutoAugment',\n",
              " 'AutoAugmentPolicy',\n",
              " 'CenterCrop',\n",
              " 'ColorJitter',\n",
              " 'Compose',\n",
              " 'ConvertImageDtype',\n",
              " 'FiveCrop',\n",
              " 'GaussianBlur',\n",
              " 'Grayscale',\n",
              " 'InterpolationMode',\n",
              " 'Lambda',\n",
              " 'LinearTransformation',\n",
              " 'Normalize',\n",
              " 'PILToTensor',\n",
              " 'Pad',\n",
              " 'RandomAdjustSharpness',\n",
              " 'RandomAffine',\n",
              " 'RandomApply',\n",
              " 'RandomAutocontrast',\n",
              " 'RandomChoice',\n",
              " 'RandomCrop',\n",
              " 'RandomEqualize',\n",
              " 'RandomErasing',\n",
              " 'RandomGrayscale',\n",
              " 'RandomHorizontalFlip',\n",
              " 'RandomInvert',\n",
              " 'RandomOrder',\n",
              " 'RandomPerspective',\n",
              " 'RandomPosterize',\n",
              " 'RandomResizedCrop',\n",
              " 'RandomRotation',\n",
              " 'RandomSizedCrop',\n",
              " 'RandomSolarize',\n",
              " 'RandomVerticalFlip',\n",
              " 'Resize',\n",
              " 'Scale',\n",
              " 'TenCrop',\n",
              " 'ToPILImage',\n",
              " 'ToTensor',\n",
              " '__builtins__',\n",
              " '__cached__',\n",
              " '__doc__',\n",
              " '__file__',\n",
              " '__loader__',\n",
              " '__name__',\n",
              " '__package__',\n",
              " '__path__',\n",
              " '__spec__',\n",
              " 'autoaugment',\n",
              " 'functional',\n",
              " 'functional_pil',\n",
              " 'functional_tensor',\n",
              " 'transforms']"
            ]
          },
          "metadata": {
            "tags": []
          },
          "execution_count": 5
        }
      ]
    },
    {
      "cell_type": "code",
      "metadata": {
        "colab": {
          "base_uri": "https://localhost:8080/"
        },
        "id": "a0iRWEsYhEon",
        "outputId": "5061679a-b41b-4476-b63f-35a2299f9ffd"
      },
      "source": [
        "#we instantiate to_tensor, an object of transforms.ToTensor and use that to convert the image into a pytorch tensor \n",
        "to_tensor= transforms.ToTensor() \n",
        "img_t = to_tensor(img)\n",
        "img_t.shape"
      ],
      "execution_count": 6,
      "outputs": [
        {
          "output_type": "execute_result",
          "data": {
            "text/plain": [
              "torch.Size([3, 32, 32])"
            ]
          },
          "metadata": {
            "tags": []
          },
          "execution_count": 6
        }
      ]
    },
    {
      "cell_type": "code",
      "metadata": {
        "id": "hSjAdClpfG68"
      },
      "source": [
        "## The to_tensor transform can be directly passed into the dataset.CIFAR10 constructor\n",
        "cifar_tensor = datasets.CIFAR10(data_path, train=True, download = False, transform = to_tensor)"
      ],
      "execution_count": 7,
      "outputs": []
    },
    {
      "cell_type": "code",
      "metadata": {
        "id": "on2wrm254Y5e"
      },
      "source": [
        "## We need to stack these tensors \n",
        "cifar_stacked = torch.stack([img_t for img_t, _ in cifar_tensor],dim = 3)"
      ],
      "execution_count": 8,
      "outputs": []
    },
    {
      "cell_type": "code",
      "metadata": {
        "id": "BvfHGlRQSxKK"
      },
      "source": [
        ""
      ],
      "execution_count": 8,
      "outputs": []
    },
    {
      "cell_type": "code",
      "metadata": {
        "colab": {
          "base_uri": "https://localhost:8080/"
        },
        "id": "jRYmcFRbNtVK",
        "outputId": "31a84eaf-e958-4a60-abac-abe7456515aa"
      },
      "source": [
        "cifar_stacked.shape\n"
      ],
      "execution_count": 9,
      "outputs": [
        {
          "output_type": "execute_result",
          "data": {
            "text/plain": [
              "torch.Size([3, 32, 32, 50000])"
            ]
          },
          "metadata": {
            "tags": []
          },
          "execution_count": 9
        }
      ]
    },
    {
      "cell_type": "code",
      "metadata": {
        "id": "JC58BgJyOG_W"
      },
      "source": [
        "mean = cifar_stacked.mean(dim=(1,2,3))\n",
        "std = cifar_stacked.std(dim=(1,2,3))"
      ],
      "execution_count": 10,
      "outputs": []
    },
    {
      "cell_type": "code",
      "metadata": {
        "colab": {
          "base_uri": "https://localhost:8080/"
        },
        "id": "1wTzt-IEPBGH",
        "outputId": "5f19d797-144c-4bf4-e349-32543336173d"
      },
      "source": [
        "## alternatively we could write it as \n",
        "## (3,-1) argument to view means we keep the three channels and merge the remaining dimensions into 1 \n",
        "cifar_stacked.view(3,-1).mean(dim =1).shape"
      ],
      "execution_count": 11,
      "outputs": [
        {
          "output_type": "execute_result",
          "data": {
            "text/plain": [
              "torch.Size([3])"
            ]
          },
          "metadata": {
            "tags": []
          },
          "execution_count": 11
        }
      ]
    },
    {
      "cell_type": "code",
      "metadata": {
        "colab": {
          "base_uri": "https://localhost:8080/",
          "height": 283
        },
        "id": "iu1ms_4FPI3T",
        "outputId": "53f1fbec-23d1-4149-9ac4-6483b10a5496"
      },
      "source": [
        "img_sample = cifar_stacked[:,:,:,99]\n",
        "plt.imshow(img_sample.permute(1,2,0))"
      ],
      "execution_count": 12,
      "outputs": [
        {
          "output_type": "execute_result",
          "data": {
            "text/plain": [
              "<matplotlib.image.AxesImage at 0x7fec78b51dd0>"
            ]
          },
          "metadata": {
            "tags": []
          },
          "execution_count": 12
        },
        {
          "output_type": "display_data",
          "data": {
            "image/png": "[encoded data removed]",
            "text/plain": [
              "<Figure size 432x288 with 1 Axes>"
            ]
          },
          "metadata": {
            "tags": [],
            "needs_background": "light"
          }
        }
      ]
    },
    {
      "cell_type": "code",
      "metadata": {
        "colab": {
          "base_uri": "https://localhost:8080/",
          "height": 283
        },
        "id": "d4RtvoJiQIue",
        "outputId": "26f70322-c996-4b8f-a9b7-9c0323cd7d30"
      },
      "source": [
        "## Now we can normalize the images\n",
        "\n",
        "## re writing for clarity\n",
        "imgs_mean = cifar_stacked.mean(dim=(1,2,3))\n",
        "imgs_std = cifar_stacked.std(dim=(1,2,3))\n",
        "\n",
        "normalize = transforms.Normalize(mean= imgs_mean, std = imgs_std)\n",
        "\n",
        "## trying out the transformation \n",
        "img_sample_normalized = normalize(img_sample)\n",
        "\n",
        "## The image now looks different because the RGB values have moved due to normalization\n",
        "plt.imshow(img_sample_normalized.permute(1,2,0))\n",
        "\n",
        "## We can load the entire dataset now, with the normalization transformation added in using transforms.Compose\n",
        "\n",
        "cifar_tensor = datasets.CIFAR10(data_path, train = True, download = False, transform = transforms.Compose([to_tensor,normalize]))\n",
        "\n"
      ],
      "execution_count": 13,
      "outputs": [
        {
          "output_type": "stream",
          "text": [
            "Clipping input data to the valid range for imshow with RGB data ([0..1] for floats or [0..255] for integers).\n"
          ],
          "name": "stderr"
        },
        {
          "output_type": "display_data",
          "data": {
            "image/png": "[encoded data removed]",
            "text/plain": [
              "<Figure size 432x288 with 1 Axes>"
            ]
          },
          "metadata": {
            "tags": [],
            "needs_background": "light"
          }
        }
      ]
    },
    {
      "cell_type": "code",
      "metadata": {
        "id": "SZwlZUvxSyYK"
      },
      "source": [
        "## We need to stack these tensors \n",
        "cifar_stacked = torch.stack([img_t for img_t, _ in cifar_tensor],dim = 3)"
      ],
      "execution_count": 14,
      "outputs": []
    },
    {
      "cell_type": "markdown",
      "metadata": {
        "id": "T8zD-R_YS4MU"
      },
      "source": [
        "We will now build a neural network model using pytorch to distinguish between birds and planes in this dataset. "
      ]
    },
    {
      "cell_type": "code",
      "metadata": {
        "id": "awWfzSenTihv"
      },
      "source": [
        "## Building the Dataset\n",
        "\n",
        "## Instead of building an object of the dataset class, in the textbook we are creating a list of images which are either birds or aeroplanes\n",
        "## label 0 is an aeroplane and label 2 is a bird, from the labels dictionary above. \n",
        "\n",
        "## we are going to use the cifar and cifar_val datasets we created before the to_tensor and normalize transforms\n",
        "## in fact I don't think it is a good idea to normalize the validation set using the mean and standard deviation from the training set, it may lead to data leakage. \n",
        "\n",
        "## dictionary to map old labels to new labels\n",
        "label_map = {0:0, 2:1}\n",
        "class_labels = ['aeroplane', 'bird']\n",
        "\n",
        "cifar2 = [(img, label_map[label]) for img, label in cifar10 if label in [0,2]]\n",
        "cifar2_val = [(img, label_map[label]) for img, label in cifar10_val if label in [0,2]]"
      ],
      "execution_count": null,
      "outputs": []
    },
    {
      "cell_type": "markdown",
      "metadata": {
        "id": "H5Q_-HYWWFQO"
      },
      "source": [
        "To build a neural network with the above data, we notice that there are 3(channels) * 32(height) * 32(width) feaures for each image, that is 3072 features for each image. So for a fully connected neural network, the first input layer would have 32 feature, this would be followed by hidden layers that taper the output to just 2, The probability the output is a plane and the probability that the output is a bird(Refer Figure 7.7 in the textbook, page 174) "
      ]
    },
    {
      "cell_type": "code",
      "metadata": {
        "id": "Hx1Nl9FjVy6a"
      },
      "source": [
        "## Creating a fully connected sequential neural network\n",
        "\n",
        "import torch.nn as nn\n",
        "n_in = 3072\n",
        "n_hidden = 512\n",
        "n_out = 2\n",
        "\n",
        "model = nn.Sequential(nn.Linear(n_in, n_hidden), nn.Tanh(), nn.Linear(n_hidden,n_out))\n",
        "\n",
        "list(model.parameters())\n"
      ],
      "execution_count": null,
      "outputs": []
    },
    {
      "cell_type": "code",
      "metadata": {
        "id": "53_zD_SrYVRn"
      },
      "source": [
        "img_sample_reshaped = img_sample.reshape(-1)\n",
        "output = model(img_sample_reshaped)\n",
        "output.shape"
      ],
      "execution_count": null,
      "outputs": []
    },
    {
      "cell_type": "markdown",
      "metadata": {
        "id": "33u_2fRgdus4"
      },
      "source": [
        "The problem we are solving is a classification problem, not a regression one. The thermometer calibration problem we solved earlier was a regression problem. \n",
        "The output of the classification (bird or airplane) needs to satisfy some conditions. \n",
        "1. Each element in the output should be a value in the closed interval [0,1]\n",
        "2. The sum of the elements in the outputs should add up to 1. "
      ]
    },
    {
      "cell_type": "markdown",
      "metadata": {
        "id": "rjv3dEsKeIW5"
      },
      "source": [
        "With the above criteria in mind, we add a softmax layer to our sequential neural network. The softmax function takes an input, an array of size n and returns an output another array of size n. \n",
        "\n",
        "The formula for softmax is\n",
        "\n",
        "$softmax(X_{i}) = e^{X_{i}}/\\Sigma_{i}e^{X_{i}}$\n",
        "\n",
        "The function is monotonic (larger values of Xi leads to a larger softmax) but it is not scale invariant. \n",
        "The learning process (gradient descent and updates of parameters) will make sure that the softmax function's outputs mirrors our desired outputs for the different classes. "
      ]
    },
    {
      "cell_type": "code",
      "metadata": {
        "colab": {
          "base_uri": "https://localhost:8080/"
        },
        "id": "bwc0rcKTfNHs",
        "outputId": "b5a4f032-c7c1-491d-b957-a6c75b38d6ac"
      },
      "source": [
        "## softmax can be calculated along any specified dimension of a tensor\n",
        "## The torn nn class comes with a predefined nn.Softmax function \n",
        "\n",
        "mytensor = torch.tensor([3,4,5,3,4,5],dtype = torch.float).reshape(3,2)\n",
        "print(mytensor)\n",
        "print(mytensor.shape)\n",
        "print(mytensor[0,:])\n",
        "soft= nn.Softmax(dim =0)\n",
        "print(soft(mytensor))"
      ],
      "execution_count": 18,
      "outputs": [
        {
          "output_type": "stream",
          "text": [
            "tensor([[3., 4.],\n",
            "        [5., 3.],\n",
            "        [4., 5.]])\n",
            "torch.Size([3, 2])\n",
            "tensor([3., 4.])\n",
            "tensor([[0.0900, 0.2447],\n",
            "        [0.6652, 0.0900],\n",
            "        [0.2447, 0.6652]])\n",
            "tensor([[3., 4.],\n",
            "        [5., 3.],\n",
            "        [4., 5.]])\n",
            "torch.Size([3, 2])\n",
            "tensor([3., 4.])\n",
            "tensor([[0.0900, 0.2447],\n",
            "        [0.6652, 0.0900],\n",
            "        [0.2447, 0.6652]])\n"
          ],
          "name": "stdout"
        }
      ]
    },
    {
      "cell_type": "code",
      "metadata": {
        "id": "OFPMSJL28xpA"
      },
      "source": [
        "## our problem can be re written with a softmax layer\n",
        "model = nn.Sequential(nn.Linear(n_in, n_hidden), nn.Tanh(), nn.Linear(n_hidden,n_out),soft)"
      ],
      "execution_count": 19,
      "outputs": []
    },
    {
      "cell_type": "code",
      "metadata": {
        "colab": {
          "base_uri": "https://localhost:8080/"
        },
        "id": "lYCv-u849AhL",
        "outputId": "4844def8-e786-42c1-a3ca-ffd210590e64"
      },
      "source": [
        "output = model(img_sample_reshaped)\n",
        "output"
      ],
      "execution_count": 20,
      "outputs": [
        {
          "output_type": "execute_result",
          "data": {
            "text/plain": [
              "tensor([0.5423, 0.4577], grad_fn=<SoftmaxBackward>)"
            ]
          },
          "metadata": {
            "tags": []
          },
          "execution_count": 20
        }
      ]
    },
    {
      "cell_type": "markdown",
      "metadata": {
        "id": "rdNNgmmhKzCt"
      },
      "source": [
        "## The loss function \n",
        "\n",
        "we stop using the MSE loss function and here we use the negative log likelihood loss function. \n",
        "The probability the model predicts for the correct class is called the likelihood of the model's parameters. \n",
        "We want a loss function that is large when the likelihood is low. The log likelihood function satisfies this criterion. \n",
        "\n",
        "$log loss = -\\Sigma_{i} (y_{i})log(a_{i}) $\n",
        "\n",
        "Where $a_{i}$ is the predicted probability for class i , and $y_{i}$ is an indicator variable which is 1 if the sample actually belongs to class i and 0 otherwise. \n",
        "\n",
        "Examining the formula, you can see that loss is high if a low probability is predicted for a correct class. \n",
        "\n",
        "The cross entropy loss is closely related but different from the log loss. In a multi class classifier the cross entropy loss also penalizes confusion (or high probabilities predicted for the wrong class) The formula for the cross entropy loss is: \n",
        "\n",
        "$Crossentropyloss = -\\Sigma_{i}[ (y_{i})log(a_{i}) + (1-y_{i})log(1-a_{i})]  $"
      ]
    },
    {
      "cell_type": "markdown",
      "metadata": {
        "id": "McmU1hX7QSfU"
      },
      "source": [
        "Note while implementing log loss in pytorch: \n",
        "Pytorch's torch.nn module does have a function for calculating log loss that is loss.NLLLoss() but the function accepts an array of log probabilities instead of just probabilities, to calculate the loss. This is because logarithm calculations becomes unstable as values get very close to zero, and we need optimized functions for calculating logarithms. \n",
        "\n",
        "Therefore in the last layer of our network we use nn.LogSoftmax instead of nn.Softmax, nn.LogSoftmax returns the logs of the softmax probabilites instead of the probabilities themselves and is optimized to perform this computation. \n"
      ]
    },
    {
      "cell_type": "code",
      "metadata": {
        "id": "LA6CyBJbNpF9"
      },
      "source": [
        "## Re writing our network \n",
        "\n",
        "model = model = nn.Sequential(nn.Linear(n_in, n_hidden), nn.Tanh(), nn.Linear(n_hidden,n_out),nn.LogSoftmax())"
      ],
      "execution_count": 22,
      "outputs": []
    },
    {
      "cell_type": "code",
      "metadata": {
        "id": "N3Jj311PRiqC"
      },
      "source": [
        ""
      ],
      "execution_count": null,
      "outputs": []
    }
  ]
}